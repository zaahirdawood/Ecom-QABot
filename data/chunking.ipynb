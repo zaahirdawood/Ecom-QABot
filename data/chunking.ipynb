{
 "cells": [
  {
   "cell_type": "code",
   "execution_count": 6,
   "metadata": {},
   "outputs": [
    {
     "name": "stdout",
     "output_type": "stream",
     "text": [
      "{\n",
      "  \"questions\": [\n",
      "  {\n",
      "  \"question\": \"How can I create an account?\",\n",
      "  \"answer\": \"To create an account, click on the 'Sign Up' button on the top right corner of our website and follow the instructions to complete the registration process.\"\n",
      "  },\n",
      "  {\n",
      "  \"question\": \"What payment methods do you accept?\",\n",
      "  \"answer\": \"We accept major credit cards, debit cards, and PayPal as payment methods for online orders.\"\n",
      "  },\n"
     ]
    }
   ],
   "source": [
    "!head Ecommerce_FAQ_Chatbot_dataset.json"
   ]
  },
  {
   "cell_type": "markdown",
   "metadata": {},
   "source": [
    "## Generating unique ID's"
   ]
  },
  {
   "cell_type": "code",
   "execution_count": 2,
   "metadata": {},
   "outputs": [],
   "source": [
    "# Re-load the document since it was not defined in this new code execution.\n",
    "import json\n",
    "import hashlib\n",
    "\n",
    "with open('Ecommerce_FAQ_Chatbot_dataset.json', 'rt') as f_in:\n",
    "    documents= json.load(f_in)\n",
    "\n",
    "def generate_document_id(doc):\n",
    "    combined = f\"{doc['question']}-{doc['answer'][:10]}\"\n",
    "    hash_object = hashlib.md5(combined.encode())\n",
    "    hash_hex = hash_object.hexdigest()\n",
    "    document_id = hash_hex[:8]\n",
    "    return document_id\n",
    "\n",
    "for qa_pair in documents['questions']:\n",
    "    doc_id = generate_document_id(qa_pair)\n",
    "    qa_pair['id'] = doc_id  # Add the generated ID to the question-answer pair\n"
   ]
  },
  {
   "cell_type": "code",
   "execution_count": 6,
   "metadata": {},
   "outputs": [],
   "source": [
    "hashes = []\n",
    "\n",
    "for doc in documents['questions']:\n",
    "    hashes.append(doc)"
   ]
  },
  {
   "cell_type": "code",
   "execution_count": 27,
   "metadata": {},
   "outputs": [
    {
     "data": {
      "text/plain": [
       "{'question': 'How can I create an account?',\n",
       " 'answer': \"To create an account, click on the 'Sign Up' button on the top right corner of our website and follow the instructions to complete the registration process.\",\n",
       " 'id': 'a5825c73'}"
      ]
     },
     "execution_count": 27,
     "metadata": {},
     "output_type": "execute_result"
    }
   ],
   "source": [
    "hashes[0]"
   ]
  },
  {
   "cell_type": "code",
   "execution_count": 24,
   "metadata": {},
   "outputs": [
    {
     "data": {
      "text/plain": [
       "True"
      ]
     },
     "execution_count": 24,
     "metadata": {},
     "output_type": "execute_result"
    }
   ],
   "source": [
    "# check if hash unique hash id count and len of questions ar equal\n",
    "len(hash_list) == len(documents['questions'])"
   ]
  },
  {
   "cell_type": "code",
   "execution_count": 30,
   "metadata": {},
   "outputs": [],
   "source": [
    "with open('documents-with-ids.json', 'wt') as f_out:\n",
    "    json.dump(hashes, f_out, indent=2)"
   ]
  },
  {
   "cell_type": "code",
   "execution_count": 31,
   "metadata": {},
   "outputs": [
    {
     "name": "stdout",
     "output_type": "stream",
     "text": [
      "[\n",
      "  {\n",
      "    \"question\": \"How can I create an account?\",\n",
      "    \"answer\": \"To create an account, click on the 'Sign Up' button on the top right corner of our website and follow the instructions to complete the registration process.\",\n",
      "    \"id\": \"a5825c73\"\n",
      "  },\n",
      "  {\n",
      "    \"question\": \"What payment methods do you accept?\",\n",
      "    \"answer\": \"We accept major credit cards, debit cards, and PayPal as payment methods for online orders.\",\n",
      "    \"id\": \"db025979\"\n"
     ]
    }
   ],
   "source": [
    "!head documents-with-ids.json"
   ]
  },
  {
   "cell_type": "markdown",
   "metadata": {},
   "source": [
    "## Chunking"
   ]
  },
  {
   "cell_type": "code",
   "execution_count": 17,
   "metadata": {},
   "outputs": [],
   "source": [
    "from openai import OpenAI\n",
    "from dotenv import load_dotenv"
   ]
  },
  {
   "cell_type": "code",
   "execution_count": 18,
   "metadata": {},
   "outputs": [
    {
     "data": {
      "text/plain": [
       "True"
      ]
     },
     "execution_count": 18,
     "metadata": {},
     "output_type": "execute_result"
    }
   ],
   "source": [
    "load_dotenv()"
   ]
  },
  {
   "cell_type": "code",
   "execution_count": 19,
   "metadata": {},
   "outputs": [],
   "source": [
    "import json\n",
    "with open(\"documents-with-ids.json\",'rt') as f_out:\n",
    "    documents= json.load(f_out)"
   ]
  },
  {
   "cell_type": "code",
   "execution_count": 20,
   "metadata": {},
   "outputs": [
    {
     "data": {
      "text/plain": [
       "{'question': 'How can I create an account?',\n",
       " 'answer': \"To create an account, click on the 'Sign Up' button on the top right corner of our website and follow the instructions to complete the registration process.\",\n",
       " 'id': 'a5825c73'}"
      ]
     },
     "execution_count": 20,
     "metadata": {},
     "output_type": "execute_result"
    }
   ],
   "source": [
    "documents[0]"
   ]
  },
  {
   "cell_type": "code",
   "execution_count": 44,
   "metadata": {},
   "outputs": [],
   "source": [
    "prompt=f\"\"\"Review {documents} and create output a new .json file that contains a key which categorises the type of question\n",
    "            based on the topics they belong to, some high level topics are:\n",
    "                1. Account & Registration\n",
    "                2. Payments & Pricing\n",
    "                3. Shipping & Delivery\n",
    "                4. Returns & Refunds\n",
    "                5. Order Management\n",
    "                6. Customer Support & Services\n",
    "                7. Product Information\n",
    "                \n",
    "            The topics above must be introduced as a new key \"topic\" for each question, answer pair.\n",
    "            \n",
    "            return only the contents found in between ```json``` nothing else.\n",
    "\"\"\""
   ]
  },
  {
   "cell_type": "code",
   "execution_count": 202,
   "metadata": {},
   "outputs": [
    {
     "ename": "NameError",
     "evalue": "name 'OpenAI' is not defined",
     "output_type": "error",
     "traceback": [
      "\u001b[0;31m---------------------------------------------------------------------------\u001b[0m",
      "\u001b[0;31mNameError\u001b[0m                                 Traceback (most recent call last)",
      "Cell \u001b[0;32mIn[202], line 1\u001b[0m\n\u001b[0;32m----> 1\u001b[0m client\u001b[38;5;241m=\u001b[39m \u001b[43mOpenAI\u001b[49m()\n\u001b[1;32m      2\u001b[0m model\u001b[38;5;241m=\u001b[39m \u001b[38;5;124m\"\u001b[39m\u001b[38;5;124mgpt-4o-mini\u001b[39m\u001b[38;5;124m\"\u001b[39m\n\u001b[1;32m      3\u001b[0m response\u001b[38;5;241m=\u001b[39m client\u001b[38;5;241m.\u001b[39mchat\u001b[38;5;241m.\u001b[39mcompletions\u001b[38;5;241m.\u001b[39mcreate(\n\u001b[1;32m      4\u001b[0m         model\u001b[38;5;241m=\u001b[39mmodel,\n\u001b[1;32m      5\u001b[0m        messages\u001b[38;5;241m=\u001b[39m[\n\u001b[0;32m   (...)\u001b[0m\n\u001b[1;32m      8\u001b[0m     ],\n\u001b[1;32m      9\u001b[0m )\n",
      "\u001b[0;31mNameError\u001b[0m: name 'OpenAI' is not defined"
     ]
    }
   ],
   "source": [
    "\n",
    "client= OpenAI()\n",
    "model= \"gpt-4o-mini\"\n",
    "response= client.chat.completions.create(\n",
    "        model=model,\n",
    "       messages=[\n",
    "        # {\"role\": \"system\", \"content\": \"You are a helpful assistant.\"},\n",
    "        {\"role\":\"user\", \"content\": prompt}\n",
    "    ],\n",
    ")"
   ]
  },
  {
   "cell_type": "code",
   "execution_count": 95,
   "metadata": {},
   "outputs": [],
   "source": [
    "def format_output(response):\n",
    "    data_to_view = {\n",
    "        \"response\": response.choices[0].message.content.replace(\"```json\",'').replace('```','')\n",
    "    }\n",
    "    return data_to_view['response']\n",
    "\n",
    "response_string = format_output(response)"
   ]
  },
  {
   "cell_type": "code",
   "execution_count": 134,
   "metadata": {},
   "outputs": [
    {
     "data": {
      "text/plain": [
       "[{'question': 'How can I create an account?',\n",
       "  'answer': \"To create an account, click on the 'Sign Up' button on the top right corner of our website and follow the instructions to complete the registration process.\",\n",
       "  'id': 'a5825c73',\n",
       "  'topic': 'Account & Registration'},\n",
       " {'question': 'What payment methods do you accept?',\n",
       "  'answer': 'We accept major credit cards, debit cards, and PayPal as payment methods for online orders.',\n",
       "  'id': 'db025979',\n",
       "  'topic': 'Payments & Pricing'},\n",
       " {'question': 'How can I track my order?',\n",
       "  'answer': \"You can track your order by logging into your account and navigating to the 'Order History' section. There, you will find the tracking information for your shipment.\",\n",
       "  'id': 'f936d8f6',\n",
       "  'topic': 'Order Management'},\n",
       " {'question': 'What is your return policy?',\n",
       "  'answer': 'Our return policy allows you to return products within 30 days of purchase for a full refund, provided they are in their original condition and packaging. Please refer to our Returns page for detailed instructions.',\n",
       "  'id': 'ae7b5c39',\n",
       "  'topic': 'Returns & Refunds'},\n",
       " {'question': 'Can I cancel my order?',\n",
       "  'answer': 'You can cancel your order if it has not been shipped yet. Please contact our customer support team with your order details, and we will assist you with the cancellation process.',\n",
       "  'id': '0ea444c1',\n",
       "  'topic': 'Order Management'},\n",
       " {'question': 'How long does shipping take?',\n",
       "  'answer': 'Shipping times vary depending on the destination and the shipping method chosen. Standard shipping usually takes 3-5 business days, while express shipping can take 1-2 business days.',\n",
       "  'id': '12291f94',\n",
       "  'topic': 'Shipping & Delivery'},\n",
       " {'question': 'Do you offer international shipping?',\n",
       "  'answer': 'Yes, we offer international shipping to select countries. The availability and shipping costs will be calculated during the checkout process based on your location.',\n",
       "  'id': '44c67340',\n",
       "  'topic': 'Shipping & Delivery'},\n",
       " {'question': 'What should I do if my package is lost or damaged?',\n",
       "  'answer': 'If your package is lost or damaged during transit, please contact our customer support team immediately. We will initiate an investigation and take the necessary steps to resolve the issue.',\n",
       "  'id': '4d6e804e',\n",
       "  'topic': 'Shipping & Delivery'},\n",
       " {'question': 'Can I change my shipping address after placing an order?',\n",
       "  'answer': 'If you need to change your shipping address, please contact our customer support team as soon as possible. We will do our best to update the address if the order has not been shipped yet.',\n",
       "  'id': 'a5f8ed75',\n",
       "  'topic': 'Order Management'},\n",
       " {'question': 'How can I contact customer support?',\n",
       "  'answer': 'You can contact our customer support team by phone at [phone number] or by email at [email address]. Our team is available [working hours] to assist you with any inquiries or issues you may have.',\n",
       "  'id': '1556f9f4',\n",
       "  'topic': 'Customer Support & Services'},\n",
       " {'question': 'Do you offer gift wrapping services?',\n",
       "  'answer': 'Yes, we offer gift wrapping services for an additional fee. During the checkout process, you can select the option to add gift wrapping to your order.',\n",
       "  'id': 'e857f3fb',\n",
       "  'topic': 'Services'},\n",
       " {'question': 'What is your price matching policy?',\n",
       "  'answer': \"We have a price matching policy where we will match the price of an identical product found on a competitor's website. Please contact our customer support team with the details of the product and the competitor's offer.\",\n",
       "  'id': 'cbbe261f',\n",
       "  'topic': 'Payments & Pricing'},\n",
       " {'question': 'Can I order by phone?',\n",
       "  'answer': 'Unfortunately, we do not accept orders over the phone. Please place your order through our website for a smooth and secure transaction.',\n",
       "  'id': 'c47b55e8',\n",
       "  'topic': 'Order Management'},\n",
       " {'question': 'Are my personal and payment details secure?',\n",
       "  'answer': 'Yes, we take the security of your personal and payment details seriously. We use industry-standard encryption and follow strict security protocols to ensure your information is protected.',\n",
       "  'id': '4d10fe0f',\n",
       "  'topic': 'Payments & Pricing'},\n",
       " {'question': 'What is your price adjustment policy?',\n",
       "  'answer': 'If a product you purchased goes on sale within 7 days of your purchase, we offer a one-time price adjustment. Please contact our customer support team with your order details to request the adjustment.',\n",
       "  'id': '1438fc3b',\n",
       "  'topic': 'Payments & Pricing'},\n",
       " {'question': 'Do you have a loyalty program?',\n",
       "  'answer': 'Yes, we have a loyalty program where you can earn points for every purchase. These points can be redeemed for discounts on future orders. Please visit our website to learn more and join the program.',\n",
       "  'id': 'bffba313',\n",
       "  'topic': 'Payments & Pricing'},\n",
       " {'question': 'Can I order without creating an account?',\n",
       "  'answer': 'Yes, you can place an order as a guest without creating an account. However, creating an account offers benefits such as order tracking and easier future purchases.',\n",
       "  'id': '716a4e4d',\n",
       "  'topic': 'Account & Registration'},\n",
       " {'question': 'Do you offer bulk or wholesale discounts?',\n",
       "  'answer': 'Yes, we offer bulk or wholesale discounts for certain products. Please contact our customer support team or visit our Wholesale page for more information and to discuss your specific requirements.',\n",
       "  'id': '4fceba91',\n",
       "  'topic': 'Payments & Pricing'},\n",
       " {'question': 'Can I change or cancel an item in my order?',\n",
       "  'answer': 'If you need to change or cancel an item in your order, please contact our customer support team as soon as possible. We will assist you with the necessary steps.',\n",
       "  'id': '39134f05',\n",
       "  'topic': 'Order Management'},\n",
       " {'question': 'How can I leave a product review?',\n",
       "  'answer': \"To leave a product review, navigate to the product page on our website and click on the 'Write a Review' button. You can share your feedback and rating based on your experience with the product.\",\n",
       "  'id': '3c130110',\n",
       "  'topic': 'Product Information'},\n",
       " {'question': 'Can I use multiple promo codes on a single order?',\n",
       "  'answer': 'Usually, only one promo code can be applied per order. During the checkout process, enter the promo code in the designated field to apply the discount to your order.',\n",
       "  'id': '5a7a6071',\n",
       "  'topic': 'Payments & Pricing'},\n",
       " {'question': 'What should I do if I receive the wrong item?',\n",
       "  'answer': 'If you receive the wrong item in your order, please contact our customer support team immediately. We will arrange for the correct item to be shipped to you and assist with returning the wrong item.',\n",
       "  'id': 'd040fd2f',\n",
       "  'topic': 'Returns & Refunds'},\n",
       " {'question': 'Do you offer expedited shipping?',\n",
       "  'answer': 'Yes, we offer expedited shipping options for faster delivery. During the checkout process, you can select the desired expedited shipping method.',\n",
       "  'id': '9d3f4396',\n",
       "  'topic': 'Shipping & Delivery'},\n",
       " {'question': 'Can I order a product that is out of stock?',\n",
       "  'answer': 'If a product is currently out of stock, you will usually see an option to sign up for product notifications. This way, you will be alerted when the product becomes available again.',\n",
       "  'id': 'e3e525b5',\n",
       "  'topic': 'Product Information'},\n",
       " {'question': 'What is your email newsletter about?',\n",
       "  'answer': 'Our email newsletter provides updates on new product releases, exclusive offers, and helpful tips related to our products. You can subscribe to our newsletter on our website.',\n",
       "  'id': '1f2fceb7',\n",
       "  'topic': 'Customer Support & Services'},\n",
       " {'question': 'Can I return a product if I changed my mind?',\n",
       "  'answer': 'Yes, you can return a product if you changed your mind. Please ensure the product is in its original condition and packaging, and refer to our return policy for instructions.',\n",
       "  'id': '9a9ab0e5',\n",
       "  'topic': 'Returns & Refunds'},\n",
       " {'question': 'Do you offer live chat support?',\n",
       "  'answer': 'Yes, we offer live chat support on our website during our business hours. Look for the chat icon in the bottom right corner to initiate a chat with our customer support team.',\n",
       "  'id': 'c4a9265b',\n",
       "  'topic': 'Customer Support & Services'},\n",
       " {'question': 'Can I order a product as a gift?',\n",
       "  'answer': \"Yes, you can order a product as a gift and have it shipped directly to the recipient. During the checkout process, you can enter the recipient's shipping address.\",\n",
       "  'id': '01558321',\n",
       "  'topic': 'Product Information'},\n",
       " {'question': 'What should I do if my discount code is not working?',\n",
       "  'answer': 'If your discount code is not working, please double-check the terms and conditions associated with the code. If the issue persists, contact our customer support team for assistance.',\n",
       "  'id': '5011e6e1',\n",
       "  'topic': 'Payments & Pricing'},\n",
       " {'question': 'Can I return a product if it was a final sale item?',\n",
       "  'answer': 'Final sale items are usually non-returnable and non-refundable. Please review the product description or contact our customer support team to confirm the return eligibility for specific items.',\n",
       "  'id': '0dbcea26',\n",
       "  'topic': 'Returns & Refunds'},\n",
       " {'question': 'Do you offer installation services for your products?',\n",
       "  'answer': 'Installation services are available for select products. Please check the product description or contact our customer support team for more information and to request installation services.',\n",
       "  'id': '0d948b46',\n",
       "  'topic': 'Product Information'},\n",
       " {'question': 'Can I order a product that is discontinued?',\n",
       "  'answer': 'Discontinued products are no longer available for purchase. We recommend exploring alternative products on our website.',\n",
       "  'id': '0fc36df6',\n",
       "  'topic': 'Product Information'},\n",
       " {'question': 'Can I return a product without a receipt?',\n",
       "  'answer': 'A receipt or proof of purchase is usually required for returns. Please refer to our return policy or contact our customer support team for assistance.',\n",
       "  'id': '868edd01',\n",
       "  'topic': 'Returns & Refunds'},\n",
       " {'question': 'Can I order a product for delivery to a different country?',\n",
       "  'answer': 'Yes, we offer international shipping to select countries. Please review the available shipping destinations during checkout or contact our customer support for assistance.',\n",
       "  'id': 'e90a28db',\n",
       "  'topic': 'Shipping & Delivery'},\n",
       " {'question': 'Can I add a gift message to my order?',\n",
       "  'answer': 'Yes, you can add a gift message during the checkout process. There is usually a section where you can enter your personalized message.',\n",
       "  'id': 'b5f9b9d1',\n",
       "  'topic': 'Services'},\n",
       " {'question': 'Can I request a product demonstration before making a purchase?',\n",
       "  'answer': 'We do not currently offer product demonstrations before purchase. However, you can find detailed product descriptions, specifications, and customer reviews on our website.',\n",
       "  'id': '231bdc75',\n",
       "  'topic': 'Product Information'},\n",
       " {'question': \"Can I order a product that is listed as 'coming soon'?\",\n",
       "  'answer': \"Products listed as 'coming soon' are not available for immediate purchase. Please sign up for notifications to be informed when the product becomes available.\",\n",
       "  'id': '53415902',\n",
       "  'topic': 'Product Information'},\n",
       " {'question': 'Can I request an invoice for my order?',\n",
       "  'answer': 'Yes, an invoice is usually included with your order. If you require a separate invoice, please contact our customer support team with your order details.',\n",
       "  'id': 'f26b624d',\n",
       "  'topic': 'Customer Support & Services'},\n",
       " {'question': \"Can I order a product that is labeled as 'limited edition'?\",\n",
       "  'answer': \"'Limited edition' products may have restricted availability. We recommend placing an order as soon as possible to secure your item.\",\n",
       "  'id': '4194a7f7',\n",
       "  'topic': 'Product Information'},\n",
       " {'question': 'Can I return a product if I no longer have the original packaging?',\n",
       "  'answer': 'While returning a product in its original packaging is preferred, you can still initiate a return without it. Contact our customer support team for guidance in such cases.',\n",
       "  'id': 'd1379f24',\n",
       "  'topic': 'Returns & Refunds'},\n",
       " {'question': 'Can I request a product that is currently out of stock to be reserved for me?',\n",
       "  'answer': 'We do not offer reservations for out-of-stock products. However, you can sign up for product notifications to be alerted when it becomes available again.',\n",
       "  'id': '2d52c148',\n",
       "  'topic': 'Product Information'},\n",
       " {'question': \"Can I order a product if it is listed as 'pre-order' with other in-stock items?\",\n",
       "  'answer': 'Yes, you can place an order with a mix of pre-order and in-stock items. However, please note that the entire order will be shipped once all items are available.',\n",
       "  'id': 'b874d464',\n",
       "  'topic': 'Order Management'},\n",
       " {'question': 'Can I return a product if it was damaged during shipping?',\n",
       "  'answer': 'If your product was damaged during shipping, please contact our customer support team immediately. We will guide you through the return and replacement process.',\n",
       "  'id': '9a969d05',\n",
       "  'topic': 'Returns & Refunds'},\n",
       " {'question': 'Can I request a product that is out of stock to be restocked?',\n",
       "  'answer': 'We strive to restock popular products whenever possible. Please sign up for product notifications to be informed when the item becomes available again.',\n",
       "  'id': '56901444',\n",
       "  'topic': 'Product Information'},\n",
       " {'question': \"Can I order a product if it is listed as 'backordered'?\",\n",
       "  'answer': \"Products listed as 'backordered' are temporarily out of stock but can still be ordered. Your order will be fulfilled once the product is restocked.\",\n",
       "  'id': '057cdc80',\n",
       "  'topic': 'Product Information'},\n",
       " {'question': 'Can I return a product if it was purchased during a sale or with a discount?',\n",
       "  'answer': 'Yes, you can return a product purchased during a sale or with a discount. The refund will be processed based on the amount paid after the discount.',\n",
       "  'id': 'e9eae9be',\n",
       "  'topic': 'Returns & Refunds'},\n",
       " {'question': 'Can I request a product repair or replacement if it is damaged?',\n",
       "  'answer': 'If you receive a damaged product, please contact our customer support team immediately. We will assist you with the necessary steps for repair or replacement.',\n",
       "  'id': '83e26d61',\n",
       "  'topic': 'Returns & Refunds'},\n",
       " {'question': \"Can I order a product if it is listed as 'out of stock' but available for pre-order?\",\n",
       "  'answer': 'If a product is available for pre-order, you can place an order to secure your item. The product will be shipped once it becomes available.',\n",
       "  'id': '8f1cfa7e',\n",
       "  'topic': 'Product Information'},\n",
       " {'question': 'Can I return a product if it was purchased as a gift?',\n",
       "  'answer': 'Yes, you can return a product purchased as a gift. However, refunds will typically be issued to the original payment method used for the purchase.',\n",
       "  'id': '0ee720eb',\n",
       "  'topic': 'Returns & Refunds'},\n",
       " {'question': \"Can I request a product if it is listed as 'discontinued'?\",\n",
       "  'answer': \"Unfortunately, if a product is listed as 'discontinued,' it is no longer available for purchase. We recommend exploring alternative products on our website.\",\n",
       "  'id': '953918bc',\n",
       "  'topic': 'Product Information'},\n",
       " {'question': \"Can I order a product if it is listed as 'sold out'?\",\n",
       "  'answer': \"If a product is listed as 'sold out,' it is currently unavailable for purchase. Please check back later or sign up for notifications when it becomes available again.\",\n",
       "  'id': 'dfc4f878',\n",
       "  'topic': 'Product Information'},\n",
       " {'question': 'Can I return a product if it was purchased with a gift card?',\n",
       "  'answer': 'Yes, you can return a product purchased with a gift card. The refund will be issued in the form of store credit or a new gift card.',\n",
       "  'id': '193e71e9',\n",
       "  'topic': 'Returns & Refunds'},\n",
       " {'question': 'Can I request a product if it is not currently available in my size?',\n",
       "  'answer': 'If a product is not available in your size, it may be temporarily out of stock. Please check back later or sign up for size notifications.',\n",
       "  'id': '366c9e40',\n",
       "  'topic': 'Product Information'},\n",
       " {'question': \"Can I order a product if it is listed as 'coming soon' but available for pre-order?\",\n",
       "  'answer': \"If a product is listed as 'coming soon' and available for pre-order, you can place an order to secure your item before it becomes available.\",\n",
       "  'id': 'cfdd3b13',\n",
       "  'topic': 'Product Information'},\n",
       " {'question': 'Can I return a product if it was purchased with a discount code?',\n",
       "  'answer': 'Yes, you can return a product purchased with a discount code. The refund will be processed based on the amount paid after the discount.',\n",
       "  'id': '24ecf6bc',\n",
       "  'topic': 'Returns & Refunds'},\n",
       " {'question': 'Can I request a custom order or personalized product?',\n",
       "  'answer': 'We do not currently offer custom orders or personalized products. Please explore the available products on our website.',\n",
       "  'id': '9a8437cb',\n",
       "  'topic': 'Product Information'},\n",
       " {'question': \"Can I order a product if it is listed as 'temporarily unavailable'?\",\n",
       "  'answer': \"If a product is listed as 'temporarily unavailable,' it is out of stock but may be restocked in the future. Please check back later or sign up for notifications.\",\n",
       "  'id': '429d0ca5',\n",
       "  'topic': 'Product Information'},\n",
       " {'question': 'Can I return a product if it was damaged due to improper use?',\n",
       "  'answer': 'Our return policy generally covers products that are defective or damaged upon arrival. Damage due to improper use may not be eligible for a return. Please contact our customer support team for assistance.',\n",
       "  'id': '2caeef0d',\n",
       "  'topic': 'Returns & Refunds'},\n",
       " {'question': \"Can I request a product if it is listed as 'coming soon' but not available for pre-order?\",\n",
       "  'answer': \"If a product is listed as 'coming soon' but not available for pre-order, you will need to wait until it is officially released and becomes available for purchase.\",\n",
       "  'id': 'b81d6268',\n",
       "  'topic': 'Product Information'},\n",
       " {'question': \"Can I order a product if it is listed as 'on hold'?\",\n",
       "  'answer': \"If a product is listed as 'on hold,' it is temporarily unavailable for purchase. Please check back later or sign up for notifications when it becomes available.\",\n",
       "  'id': '8ee76407',\n",
       "  'topic': 'Product Information'},\n",
       " {'question': 'Can I return a product if I no longer have the original receipt?',\n",
       "  'answer': 'While a receipt is preferred for returns, we may be able to assist you without it. Please contact our customer support team for further guidance.',\n",
       "  'id': 'e16e43e1',\n",
       "  'topic': 'Returns & Refunds'},\n",
       " {'question': \"Can I request a product that is listed as 'limited edition' to be restocked?\",\n",
       "  'answer': 'Once a limited edition product is sold out, it may not be restocked. Limited edition items are available for a limited time only, so we recommend purchasing them while they are available.',\n",
       "  'id': '4918376e',\n",
       "  'topic': 'Product Information'},\n",
       " {'question': \"Can I order a product if it is listed as 'discontinued' but still visible on the website?\",\n",
       "  'answer': \"If a product is listed as 'discontinued' but still visible on the website, it may be an error. Please contact our customer support team for clarification.\",\n",
       "  'id': '0ba74d77',\n",
       "  'topic': 'Product Information'},\n",
       " {'question': 'Can I return a product if it was a clearance or final sale item?',\n",
       "  'answer': 'Clearance or final sale items are typically non-returnable and non-refundable. Please review the product description or contact our customer support team for more information.',\n",
       "  'id': 'c618b995',\n",
       "  'topic': 'Returns & Refunds'},\n",
       " {'question': 'Can I request a product if it is not listed on your website?',\n",
       "  'answer': 'If a product is not listed on our website, it may not be available for purchase. We recommend exploring the available products or contacting our customer support team for further assistance.',\n",
       "  'id': '7f8d3c70',\n",
       "  'topic': 'Product Information'},\n",
       " {'question': \"Can I order a product if it is listed as 'out of stock' but available for backorder?\",\n",
       "  'answer': \"If a product is listed as 'out of stock' but available for backorder, you can place an order to secure your item. The product will be shipped once it becomes available.\",\n",
       "  'id': '508156be',\n",
       "  'topic': 'Product Information'},\n",
       " {'question': 'Can I return a product if it was purchased as part of a bundle or set?',\n",
       "  'answer': 'If a product was purchased as part of a bundle or set, the return policy may vary. Please refer to the specific terms and conditions or contact our customer support team for further guidance.',\n",
       "  'id': '8ec93590',\n",
       "  'topic': 'Returns & Refunds'},\n",
       " {'question': \"Can I request a product that is listed as 'out of stock' to be restocked?\",\n",
       "  'answer': 'We aim to restock popular products whenever possible. Please sign up for product notifications to be alerted when the item becomes available again.',\n",
       "  'id': '4629871f',\n",
       "  'topic': 'Product Information'},\n",
       " {'question': \"Can I order a product if it is listed as 'sold out' but available for pre-order?\",\n",
       "  'answer': \"If a product is listed as 'sold out' but available for pre-order, you can place an order to secure your item. The product will be shipped once it becomes available.\",\n",
       "  'id': 'eb52e704',\n",
       "  'topic': 'Product Information'},\n",
       " {'question': 'Can I return a product if it was purchased with a promotional gift card?',\n",
       "  'answer': 'Yes, you can return a product purchased with a promotional gift card. The refund will be issued in the form of store credit or a new gift card.',\n",
       "  'id': '8cb3fec8',\n",
       "  'topic': 'Returns & Refunds'},\n",
       " {'question': 'Can I request a product if it is not currently available in my preferred color?',\n",
       "  'answer': 'If a product is not available in your preferred color, it may be temporarily out of stock. Please check back later or sign up for color notifications.',\n",
       "  'id': 'c2a1b151',\n",
       "  'topic': 'Product Information'},\n",
       " {'question': \"Can I order a product if it is listed as 'coming soon' and not available for pre-order?\",\n",
       "  'answer': \"If a product is listed as 'coming soon' but not available for pre-order, you will need to wait until it is officially released and becomes available for purchase.\",\n",
       "  'id': '6311fa20',\n",
       "  'topic': 'Product Information'},\n",
       " {'question': 'Can I return a product if it was purchased during a promotional event?',\n",
       "  'answer': 'Yes, you can return a product purchased during a promotional event. The refund will be processed based on the amount paid after any applicable discounts.',\n",
       "  'id': 'dc347b46',\n",
       "  'topic': 'Returns & Refunds'}]"
      ]
     },
     "execution_count": 134,
     "metadata": {},
     "output_type": "execute_result"
    }
   ],
   "source": [
    "json.loads(response_string)"
   ]
  },
  {
   "cell_type": "markdown",
   "metadata": {},
   "source": [
    "## Indexing"
   ]
  },
  {
   "cell_type": "code",
   "execution_count": 201,
   "metadata": {},
   "outputs": [],
   "source": [
    "import minsearch"
   ]
  },
  {
   "cell_type": "code",
   "execution_count": null,
   "metadata": {},
   "outputs": [],
   "source": []
  }
 ],
 "metadata": {
  "kernelspec": {
   "display_name": ".venv",
   "language": "python",
   "name": "python3"
  },
  "language_info": {
   "codemirror_mode": {
    "name": "ipython",
    "version": 3
   },
   "file_extension": ".py",
   "mimetype": "text/x-python",
   "name": "python",
   "nbconvert_exporter": "python",
   "pygments_lexer": "ipython3",
   "version": "3.11.6"
  }
 },
 "nbformat": 4,
 "nbformat_minor": 2
}
