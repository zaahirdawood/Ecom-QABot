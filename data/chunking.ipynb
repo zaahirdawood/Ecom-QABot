{
 "cells": [
  {
   "cell_type": "code",
   "execution_count": 2,
   "metadata": {},
   "outputs": [
    {
     "data": {
      "text/plain": [
       "'aegon_conquest_chunked.json'"
      ]
     },
     "execution_count": 2,
     "metadata": {},
     "output_type": "execute_result"
    }
   ],
   "source": [
    "# Re-load the document since it was not defined in this new code execution.\n",
    "from docx import Document\n",
    "import json\n",
    "\n",
    "# Load the original document\n",
    "doc_path = 'aegCqst.docx'\n",
    "doc = Document(doc_path)\n",
    "\n",
    "# Now re-execute the extraction and save the data into JSON.\n",
    "\n",
    "# Keywords to identify thematic sections\n",
    "aegon_keywords = [\"Aegon\", \"Landing\", \"coronation\", \"Oldtown\"]\n",
    "dragons_keywords = [\"Balerion\", \"Vhagar\", \"Meraxes\", \"dragons\"]\n",
    "characters_keywords = [\"Aegon\", \"Visenya\", \"Rhaenys\", \"Targaryen\", \"Stark\", \"Martell\", \"Lannister\"]\n",
    "battles_keywords = [\"Field of Fire\", \"Harrenhal\", \"Argilac\", \"battle\", \"submission\", \"North\", \"Vale\"]\n",
    "\n",
    "# Reset the dictionary to hold the content for each theme\n",
    "theme_content = {\n",
    "    \"Aegon's Conquest\": \"\",\n",
    "    \"The Dragons\": \"\",\n",
    "    \"Key Characters and Political Developments\": \"\",\n",
    "    \"Major Battles and Political Changes\": \"\"\n",
    "}\n",
    "\n",
    "# Function to check if a paragraph contains any keywords\n",
    "def contains_keywords(text, keywords):\n",
    "    return any(keyword in text for keyword in keywords)\n",
    "\n",
    "# Extract and categorize the content based on keywords\n",
    "for para in doc.paragraphs:\n",
    "    text = para.text.strip()\n",
    "    \n",
    "    if contains_keywords(text, aegon_keywords):\n",
    "        theme_content[\"Aegon's Conquest\"] += f\"{text}\\n\"\n",
    "    elif contains_keywords(text, dragons_keywords):\n",
    "        theme_content[\"The Dragons\"] += f\"{text}\\n\"\n",
    "    elif contains_keywords(text, characters_keywords):\n",
    "        theme_content[\"Key Characters and Political Developments\"] += f\"{text}\\n\"\n",
    "    elif contains_keywords(text, battles_keywords):\n",
    "        theme_content[\"Major Battles and Political Changes\"] += f\"{text}\\n\"\n",
    "\n",
    "# Prepare the data for JSON storage\n",
    "chunked_data = {\n",
    "    \"Aegon's Conquest\": theme_content[\"Aegon's Conquest\"],\n",
    "    \"The Dragons\": theme_content[\"The Dragons\"],\n",
    "    \"Key Characters and Political Developments\": theme_content[\"Key Characters and Political Developments\"],\n",
    "    \"Major Battles and Political Changes\": theme_content[\"Major Battles and Political Changes\"]\n",
    "}\n",
    "\n",
    "# Define the path for saving the JSON file\n",
    "json_file_path = \"aegon_conquest_chunked.json\"\n",
    "\n",
    "# Save the chunked data into a JSON file\n",
    "with open(json_file_path, 'w') as json_file:\n",
    "    json.dump(chunked_data, json_file, indent=4)\n",
    "\n",
    "json_file_path"
   ]
  }
 ],
 "metadata": {
  "kernelspec": {
   "display_name": ".venv",
   "language": "python",
   "name": "python3"
  },
  "language_info": {
   "codemirror_mode": {
    "name": "ipython",
    "version": 3
   },
   "file_extension": ".py",
   "mimetype": "text/x-python",
   "name": "python",
   "nbconvert_exporter": "python",
   "pygments_lexer": "ipython3",
   "version": "3.11.6"
  }
 },
 "nbformat": 4,
 "nbformat_minor": 2
}
