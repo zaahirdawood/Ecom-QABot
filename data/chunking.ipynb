{
 "cells": [
  {
   "cell_type": "code",
   "execution_count": 1,
   "metadata": {},
   "outputs": [
    {
     "name": "stdout",
     "output_type": "stream",
     "text": [
      "{\n",
      "  \"questions\": [\n",
      "  {\n",
      "  \"question\": \"How can I create an account?\",\n",
      "  \"answer\": \"To create an account, click on the 'Sign Up' button on the top right corner of our website and follow the instructions to complete the registration process.\"\n",
      "  },\n",
      "  {\n",
      "  \"question\": \"What payment methods do you accept?\",\n",
      "  \"answer\": \"We accept major credit cards, debit cards, and PayPal as payment methods for online orders.\"\n",
      "  },\n"
     ]
    }
   ],
   "source": [
    "!head Ecommerce_FAQ_Chatbot_dataset.json"
   ]
  },
  {
   "cell_type": "code",
   "execution_count": 2,
   "metadata": {},
   "outputs": [],
   "source": [
    "# Re-load the document since it was not defined in this new code execution.\n",
    "import json\n",
    "import hashlib\n",
    "\n",
    "with open('Ecommerce_FAQ_Chatbot_dataset.json', 'rt') as f_in:\n",
    "    documents= json.load(f_in)\n",
    "\n",
    "def generate_document_id(doc):\n",
    "    combined = f\"{doc['question']}-{doc['answer'][:10]}\"\n",
    "    hash_object = hashlib.md5(combined.encode())\n",
    "    hash_hex = hash_object.hexdigest()\n",
    "    document_id = hash_hex[:8]\n",
    "    return document_id\n",
    "\n",
    "for qa_pair in documents['questions']:\n",
    "    doc_id = generate_document_id(qa_pair)\n",
    "    qa_pair['id'] = doc_id  # Add the generated ID to the question-answer pair\n"
   ]
  },
  {
   "cell_type": "code",
   "execution_count": 6,
   "metadata": {},
   "outputs": [],
   "source": [
    "hashes = []\n",
    "\n",
    "for doc in documents['questions']:\n",
    "    hashes.append(doc)"
   ]
  },
  {
   "cell_type": "code",
   "execution_count": 27,
   "metadata": {},
   "outputs": [
    {
     "data": {
      "text/plain": [
       "{'question': 'How can I create an account?',\n",
       " 'answer': \"To create an account, click on the 'Sign Up' button on the top right corner of our website and follow the instructions to complete the registration process.\",\n",
       " 'id': 'a5825c73'}"
      ]
     },
     "execution_count": 27,
     "metadata": {},
     "output_type": "execute_result"
    }
   ],
   "source": [
    "hashes[0]"
   ]
  },
  {
   "cell_type": "code",
   "execution_count": 24,
   "metadata": {},
   "outputs": [
    {
     "data": {
      "text/plain": [
       "True"
      ]
     },
     "execution_count": 24,
     "metadata": {},
     "output_type": "execute_result"
    }
   ],
   "source": [
    "# check if hash unique hash id count and len of questions ar equal\n",
    "len(hash_list) == len(documents['questions'])"
   ]
  },
  {
   "cell_type": "code",
   "execution_count": 30,
   "metadata": {},
   "outputs": [],
   "source": [
    "with open('documents-with-ids.json', 'wt') as f_out:\n",
    "    json.dump(hashes, f_out, indent=2)"
   ]
  },
  {
   "cell_type": "code",
   "execution_count": 31,
   "metadata": {},
   "outputs": [
    {
     "name": "stdout",
     "output_type": "stream",
     "text": [
      "[\n",
      "  {\n",
      "    \"question\": \"How can I create an account?\",\n",
      "    \"answer\": \"To create an account, click on the 'Sign Up' button on the top right corner of our website and follow the instructions to complete the registration process.\",\n",
      "    \"id\": \"a5825c73\"\n",
      "  },\n",
      "  {\n",
      "    \"question\": \"What payment methods do you accept?\",\n",
      "    \"answer\": \"We accept major credit cards, debit cards, and PayPal as payment methods for online orders.\",\n",
      "    \"id\": \"db025979\"\n"
     ]
    }
   ],
   "source": [
    "!head documents-with-ids.json"
   ]
  }
 ],
 "metadata": {
  "kernelspec": {
   "display_name": ".venv",
   "language": "python",
   "name": "python3"
  },
  "language_info": {
   "codemirror_mode": {
    "name": "ipython",
    "version": 3
   },
   "file_extension": ".py",
   "mimetype": "text/x-python",
   "name": "python",
   "nbconvert_exporter": "python",
   "pygments_lexer": "ipython3",
   "version": "3.11.6"
  }
 },
 "nbformat": 4,
 "nbformat_minor": 2
}
