{
 "cells": [
  {
   "cell_type": "code",
   "execution_count": 6,
   "metadata": {},
   "outputs": [
    {
     "name": "stdout",
     "output_type": "stream",
     "text": [
      "{\n",
      "  \"questions\": [\n",
      "  {\n",
      "  \"question\": \"How can I create an account?\",\n",
      "  \"answer\": \"To create an account, click on the 'Sign Up' button on the top right corner of our website and follow the instructions to complete the registration process.\"\n",
      "  },\n",
      "  {\n",
      "  \"question\": \"What payment methods do you accept?\",\n",
      "  \"answer\": \"We accept major credit cards, debit cards, and PayPal as payment methods for online orders.\"\n",
      "  },\n"
     ]
    }
   ],
   "source": [
    "!head Ecommerce_FAQ_Chatbot_dataset.json"
   ]
  },
  {
   "cell_type": "markdown",
   "metadata": {},
   "source": [
    "## Generating unique ID's"
   ]
  },
  {
   "cell_type": "code",
   "execution_count": 2,
   "metadata": {},
   "outputs": [],
   "source": [
    "# Re-load the document since it was not defined in this new code execution.\n",
    "import json\n",
    "import hashlib\n",
    "\n",
    "with open('Ecommerce_FAQ_Chatbot_dataset.json', 'rt') as f_in:\n",
    "    documents= json.load(f_in)\n",
    "\n",
    "def generate_document_id(doc):\n",
    "    combined = f\"{doc['question']}-{doc['answer'][:10]}\"\n",
    "    hash_object = hashlib.md5(combined.encode())\n",
    "    hash_hex = hash_object.hexdigest()\n",
    "    document_id = hash_hex[:8]\n",
    "    return document_id\n",
    "\n",
    "for qa_pair in documents['questions']:\n",
    "    doc_id = generate_document_id(qa_pair)\n",
    "    qa_pair['id'] = doc_id  # Add the generated ID to the question-answer pair\n"
   ]
  },
  {
   "cell_type": "code",
   "execution_count": 6,
   "metadata": {},
   "outputs": [],
   "source": [
    "hashes = []\n",
    "\n",
    "for doc in documents['questions']:\n",
    "    hashes.append(doc)"
   ]
  },
  {
   "cell_type": "code",
   "execution_count": 27,
   "metadata": {},
   "outputs": [
    {
     "data": {
      "text/plain": [
       "{'question': 'How can I create an account?',\n",
       " 'answer': \"To create an account, click on the 'Sign Up' button on the top right corner of our website and follow the instructions to complete the registration process.\",\n",
       " 'id': 'a5825c73'}"
      ]
     },
     "execution_count": 27,
     "metadata": {},
     "output_type": "execute_result"
    }
   ],
   "source": [
    "hashes[0]"
   ]
  },
  {
   "cell_type": "code",
   "execution_count": 24,
   "metadata": {},
   "outputs": [
    {
     "data": {
      "text/plain": [
       "True"
      ]
     },
     "execution_count": 24,
     "metadata": {},
     "output_type": "execute_result"
    }
   ],
   "source": [
    "# check if hash unique hash id count and len of questions ar equal\n",
    "len(hash_list) == len(documents['questions'])"
   ]
  },
  {
   "cell_type": "code",
   "execution_count": 30,
   "metadata": {},
   "outputs": [],
   "source": [
    "with open('documents-with-ids.json', 'wt') as f_out:\n",
    "    json.dump(hashes, f_out, indent=2)"
   ]
  },
  {
   "cell_type": "code",
   "execution_count": 31,
   "metadata": {},
   "outputs": [
    {
     "name": "stdout",
     "output_type": "stream",
     "text": [
      "[\n",
      "  {\n",
      "    \"question\": \"How can I create an account?\",\n",
      "    \"answer\": \"To create an account, click on the 'Sign Up' button on the top right corner of our website and follow the instructions to complete the registration process.\",\n",
      "    \"id\": \"a5825c73\"\n",
      "  },\n",
      "  {\n",
      "    \"question\": \"What payment methods do you accept?\",\n",
      "    \"answer\": \"We accept major credit cards, debit cards, and PayPal as payment methods for online orders.\",\n",
      "    \"id\": \"db025979\"\n"
     ]
    }
   ],
   "source": [
    "!head documents-with-ids.json"
   ]
  },
  {
   "cell_type": "markdown",
   "metadata": {},
   "source": [
    "## Chunking"
   ]
  },
  {
   "cell_type": "code",
   "execution_count": 203,
   "metadata": {},
   "outputs": [],
   "source": [
    "from openai import OpenAI\n",
    "from dotenv import load_dotenv"
   ]
  },
  {
   "cell_type": "code",
   "execution_count": 204,
   "metadata": {},
   "outputs": [
    {
     "data": {
      "text/plain": [
       "True"
      ]
     },
     "execution_count": 204,
     "metadata": {},
     "output_type": "execute_result"
    }
   ],
   "source": [
    "load_dotenv()"
   ]
  },
  {
   "cell_type": "code",
   "execution_count": 205,
   "metadata": {},
   "outputs": [],
   "source": [
    "import json\n",
    "with open(\"documents-with-ids.json\",'rt') as f_out:\n",
    "    documents= json.load(f_out)"
   ]
  },
  {
   "cell_type": "code",
   "execution_count": 206,
   "metadata": {},
   "outputs": [
    {
     "data": {
      "text/plain": [
       "{'question': 'How can I create an account?',\n",
       " 'answer': \"To create an account, click on the 'Sign Up' button on the top right corner of our website and follow the instructions to complete the registration process.\",\n",
       " 'id': 'a5825c73'}"
      ]
     },
     "execution_count": 206,
     "metadata": {},
     "output_type": "execute_result"
    }
   ],
   "source": [
    "documents[0]"
   ]
  },
  {
   "cell_type": "code",
   "execution_count": 207,
   "metadata": {},
   "outputs": [],
   "source": [
    "prompt=f\"\"\"Review {documents} and create output a new .json file that contains a key which categorises the type of question\n",
    "            based on the topics they belong to, some high level topics are:\n",
    "                1. Account & Registration\n",
    "                2. Payments & Pricing\n",
    "                3. Shipping & Delivery\n",
    "                4. Returns & Refunds\n",
    "                5. Order Management\n",
    "                6. Customer Support & Services\n",
    "                7. Product Information\n",
    "                \n",
    "            The topics above must be introduced as a new key \"topic\" for each question, answer pair.\n",
    "            \n",
    "            return only the contents found in between ```json``` nothing else.\n",
    "\"\"\""
   ]
  },
  {
   "cell_type": "code",
   "execution_count": 208,
   "metadata": {},
   "outputs": [],
   "source": [
    "\n",
    "client= OpenAI()\n",
    "model= \"gpt-4o-mini\"\n",
    "response= client.chat.completions.create(\n",
    "        model=model,\n",
    "       messages=[\n",
    "        # {\"role\": \"system\", \"content\": \"You are a helpful assistant.\"},\n",
    "        {\"role\":\"user\", \"content\": prompt}\n",
    "    ],\n",
    ")"
   ]
  },
  {
   "cell_type": "code",
   "execution_count": 209,
   "metadata": {},
   "outputs": [],
   "source": [
    "def format_output(response):\n",
    "    data_to_view = {\n",
    "        \"response\": response.choices[0].message.content.replace(\"```json\",'').replace('```','')\n",
    "    }\n",
    "    return data_to_view['response']\n",
    "\n",
    "response_string = format_output(response)"
   ]
  },
  {
   "cell_type": "code",
   "execution_count": 213,
   "metadata": {},
   "outputs": [],
   "source": [
    "dat = json.loads(response_string)"
   ]
  },
  {
   "cell_type": "code",
   "execution_count": 221,
   "metadata": {},
   "outputs": [
    {
     "data": {
      "text/html": [
       "<div>\n",
       "<style scoped>\n",
       "    .dataframe tbody tr th:only-of-type {\n",
       "        vertical-align: middle;\n",
       "    }\n",
       "\n",
       "    .dataframe tbody tr th {\n",
       "        vertical-align: top;\n",
       "    }\n",
       "\n",
       "    .dataframe thead th {\n",
       "        text-align: right;\n",
       "    }\n",
       "</style>\n",
       "<table border=\"1\" class=\"dataframe\">\n",
       "  <thead>\n",
       "    <tr style=\"text-align: right;\">\n",
       "      <th></th>\n",
       "      <th>question</th>\n",
       "      <th>answer</th>\n",
       "      <th>id</th>\n",
       "      <th>topic</th>\n",
       "    </tr>\n",
       "  </thead>\n",
       "  <tbody>\n",
       "    <tr>\n",
       "      <th>0</th>\n",
       "      <td>How can I create an account?</td>\n",
       "      <td>To create an account, click on the 'Sign Up' b...</td>\n",
       "      <td>a5825c73</td>\n",
       "      <td>Account &amp; Registration</td>\n",
       "    </tr>\n",
       "    <tr>\n",
       "      <th>1</th>\n",
       "      <td>What payment methods do you accept?</td>\n",
       "      <td>We accept major credit cards, debit cards, and...</td>\n",
       "      <td>db025979</td>\n",
       "      <td>Payments &amp; Pricing</td>\n",
       "    </tr>\n",
       "    <tr>\n",
       "      <th>2</th>\n",
       "      <td>How can I track my order?</td>\n",
       "      <td>You can track your order by logging into your ...</td>\n",
       "      <td>f936d8f6</td>\n",
       "      <td>Order Management</td>\n",
       "    </tr>\n",
       "    <tr>\n",
       "      <th>3</th>\n",
       "      <td>What is your return policy?</td>\n",
       "      <td>Our return policy allows you to return product...</td>\n",
       "      <td>ae7b5c39</td>\n",
       "      <td>Returns &amp; Refunds</td>\n",
       "    </tr>\n",
       "    <tr>\n",
       "      <th>4</th>\n",
       "      <td>Can I cancel my order?</td>\n",
       "      <td>You can cancel your order if it has not been s...</td>\n",
       "      <td>0ea444c1</td>\n",
       "      <td>Order Management</td>\n",
       "    </tr>\n",
       "  </tbody>\n",
       "</table>\n",
       "</div>"
      ],
      "text/plain": [
       "                              question  \\\n",
       "0         How can I create an account?   \n",
       "1  What payment methods do you accept?   \n",
       "2            How can I track my order?   \n",
       "3          What is your return policy?   \n",
       "4               Can I cancel my order?   \n",
       "\n",
       "                                              answer        id  \\\n",
       "0  To create an account, click on the 'Sign Up' b...  a5825c73   \n",
       "1  We accept major credit cards, debit cards, and...  db025979   \n",
       "2  You can track your order by logging into your ...  f936d8f6   \n",
       "3  Our return policy allows you to return product...  ae7b5c39   \n",
       "4  You can cancel your order if it has not been s...  0ea444c1   \n",
       "\n",
       "                    topic  \n",
       "0  Account & Registration  \n",
       "1      Payments & Pricing  \n",
       "2        Order Management  \n",
       "3       Returns & Refunds  \n",
       "4        Order Management  "
      ]
     },
     "execution_count": 221,
     "metadata": {},
     "output_type": "execute_result"
    }
   ],
   "source": [
    "dat_df = pd.DataFrame(dat)\n",
    "\n",
    "dat_df.head()"
   ]
  },
  {
   "cell_type": "markdown",
   "metadata": {},
   "source": [
    "## Indexing"
   ]
  },
  {
   "cell_type": "code",
   "execution_count": 227,
   "metadata": {},
   "outputs": [
    {
     "data": {
      "text/plain": [
       "Index(['question', 'answer', 'id', 'topic'], dtype='object')"
      ]
     },
     "execution_count": 227,
     "metadata": {},
     "output_type": "execute_result"
    }
   ],
   "source": [
    "dat_df.columns"
   ]
  },
  {
   "cell_type": "code",
   "execution_count": 229,
   "metadata": {},
   "outputs": [],
   "source": [
    "import minsearch"
   ]
  },
  {
   "cell_type": "code",
   "execution_count": 234,
   "metadata": {},
   "outputs": [],
   "source": [
    "index= minsearch.Index(\n",
    "    text_fields = ['question', 'answer', 'id', 'topic'],\n",
    "    keyword_fields = []\n",
    ")"
   ]
  },
  {
   "cell_type": "code",
   "execution_count": 244,
   "metadata": {},
   "outputs": [],
   "source": [
    "query = \"How can I track an order\""
   ]
  },
  {
   "cell_type": "code",
   "execution_count": 239,
   "metadata": {},
   "outputs": [],
   "source": [
    "dco = dat_df.to_dict(orient='records')\n"
   ]
  },
  {
   "cell_type": "code",
   "execution_count": 240,
   "metadata": {},
   "outputs": [
    {
     "data": {
      "text/plain": [
       "<minsearch.Index at 0x13bd6a1d0>"
      ]
     },
     "execution_count": 240,
     "metadata": {},
     "output_type": "execute_result"
    }
   ],
   "source": [
    "index.fit(dco)"
   ]
  },
  {
   "cell_type": "code",
   "execution_count": 245,
   "metadata": {},
   "outputs": [
    {
     "data": {
      "text/plain": [
       "[{'question': 'How can I track my order?',\n",
       "  'answer': \"You can track your order by logging into your account and navigating to the 'Order History' section. There, you will find the tracking information for your shipment.\",\n",
       "  'id': 'f936d8f6',\n",
       "  'topic': 'Order Management'},\n",
       " {'question': 'Can I request an invoice for my order?',\n",
       "  'answer': 'Yes, an invoice is usually included with your order. If you require a separate invoice, please contact our customer support team with your order details.',\n",
       "  'id': 'f26b624d',\n",
       "  'topic': 'Order Management'},\n",
       " {'question': 'Can I change or cancel an item in my order?',\n",
       "  'answer': 'If you need to change or cancel an item in your order, please contact our customer support team as soon as possible. We will assist you with the necessary steps.',\n",
       "  'id': '39134f05',\n",
       "  'topic': 'Order Management'}]"
      ]
     },
     "execution_count": 245,
     "metadata": {},
     "output_type": "execute_result"
    }
   ],
   "source": [
    "index.search(query, num_results=3)"
   ]
  },
  {
   "cell_type": "markdown",
   "metadata": {},
   "source": [
    "## RAG Flow"
   ]
  },
  {
   "cell_type": "code",
   "execution_count": 253,
   "metadata": {},
   "outputs": [],
   "source": [
    "entry_template= \"\"\"\n",
    "question:{question}\n",
    "answer:{answer}\n",
    "topic:{topic}\n",
    "\"\"\".strip()\n",
    "\n",
    "prompt_template = \"\"\"You are a customer service representative for an e-commerce website. Answer the QUESTION based on the CONTEXT from our frequently asked queries database.\n",
    "Use only facts from the CONTEXT when answering the QUESTION.\n",
    "\n",
    "QUESTION: {question}\n",
    "\n",
    "CONTEXT: {context}\n",
    "\"\"\".strip()"
   ]
  },
  {
   "cell_type": "code",
   "execution_count": 252,
   "metadata": {},
   "outputs": [],
   "source": [
    "def search(query):\n",
    "    boost = {'question': 3.0, \"topic\":0.5}\n",
    "    \n",
    "    results = index.search(query=query,\n",
    "                           boost_dict=boost,\n",
    "                           num_results=10)\n",
    "    return results\n",
    "\n",
    "def build_prompt(query, search_results):\n",
    "    context= \"\"\n",
    "    \n",
    "    for doc in search_results:\n",
    "        context= context + entry_template.format(**doc) + \"\\n\\n\"\n",
    "        \n",
    "    prompt= prompt_template.format(question=query, context= context).strip()\n",
    "    \n",
    "    return prompt\n",
    "\n",
    "def llm(prompt):\n",
    "    \n",
    "    reponse= client.chat.completions.create(\n",
    "        model='gpt-4o-mini',\n",
    "        messages=[{\"role\":\"user\",\"content\":prompt}]\n",
    "    )\n",
    "    \n",
    "    return reponse.choices[0].message.content\n",
    "\n",
    "def rag(query):\n",
    "    results= search(query)\n",
    "    prompt= build_prompt(query=query,search_results=results)\n",
    "    response= llm(prompt=prompt)\n",
    "    return response"
   ]
  },
  {
   "cell_type": "code",
   "execution_count": 258,
   "metadata": {},
   "outputs": [
    {
     "name": "stdout",
     "output_type": "stream",
     "text": [
      "You can track your order by logging into your account on our e-commerce website. Once you're logged in, navigate to the 'Order History' section. In that section, you can find the tracking information for your shipment.\n"
     ]
    }
   ],
   "source": [
    "query= \"I don't understand how to track my order\"\n",
    "answer= rag(query)\n",
    "print(answer)"
   ]
  }
 ],
 "metadata": {
  "kernelspec": {
   "display_name": ".venv",
   "language": "python",
   "name": "python3"
  },
  "language_info": {
   "codemirror_mode": {
    "name": "ipython",
    "version": 3
   },
   "file_extension": ".py",
   "mimetype": "text/x-python",
   "name": "python",
   "nbconvert_exporter": "python",
   "pygments_lexer": "ipython3",
   "version": "3.11.6"
  }
 },
 "nbformat": 4,
 "nbformat_minor": 2
}
