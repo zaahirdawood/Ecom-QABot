{
 "cells": [
  {
   "cell_type": "markdown",
   "metadata": {},
   "source": [
    "## Retrieval Evaluation"
   ]
  },
  {
   "cell_type": "code",
   "execution_count": 1,
   "metadata": {},
   "outputs": [
    {
     "data": {
      "text/html": [
       "<div>\n",
       "<style scoped>\n",
       "    .dataframe tbody tr th:only-of-type {\n",
       "        vertical-align: middle;\n",
       "    }\n",
       "\n",
       "    .dataframe tbody tr th {\n",
       "        vertical-align: top;\n",
       "    }\n",
       "\n",
       "    .dataframe thead th {\n",
       "        text-align: right;\n",
       "    }\n",
       "</style>\n",
       "<table border=\"1\" class=\"dataframe\">\n",
       "  <thead>\n",
       "    <tr style=\"text-align: right;\">\n",
       "      <th></th>\n",
       "      <th>question</th>\n",
       "      <th>answer</th>\n",
       "      <th>id</th>\n",
       "      <th>topic</th>\n",
       "    </tr>\n",
       "  </thead>\n",
       "  <tbody>\n",
       "    <tr>\n",
       "      <th>0</th>\n",
       "      <td>How can I create an account?</td>\n",
       "      <td>To create an account, click on the 'Sign Up' b...</td>\n",
       "      <td>a5825c73</td>\n",
       "      <td>Account &amp; Registration</td>\n",
       "    </tr>\n",
       "    <tr>\n",
       "      <th>1</th>\n",
       "      <td>What payment methods do you accept?</td>\n",
       "      <td>We accept major credit cards, debit cards, and...</td>\n",
       "      <td>db025979</td>\n",
       "      <td>Payments &amp; Pricing</td>\n",
       "    </tr>\n",
       "    <tr>\n",
       "      <th>2</th>\n",
       "      <td>How can I track my order?</td>\n",
       "      <td>You can track your order by logging into your ...</td>\n",
       "      <td>f936d8f6</td>\n",
       "      <td>Order Management</td>\n",
       "    </tr>\n",
       "    <tr>\n",
       "      <th>3</th>\n",
       "      <td>What is your return policy?</td>\n",
       "      <td>Our return policy allows you to return product...</td>\n",
       "      <td>ae7b5c39</td>\n",
       "      <td>Returns &amp; Refunds</td>\n",
       "    </tr>\n",
       "    <tr>\n",
       "      <th>4</th>\n",
       "      <td>Can I cancel my order?</td>\n",
       "      <td>You can cancel your order if it has not been s...</td>\n",
       "      <td>0ea444c1</td>\n",
       "      <td>Order Management</td>\n",
       "    </tr>\n",
       "  </tbody>\n",
       "</table>\n",
       "</div>"
      ],
      "text/plain": [
       "                              question  \\\n",
       "0         How can I create an account?   \n",
       "1  What payment methods do you accept?   \n",
       "2            How can I track my order?   \n",
       "3          What is your return policy?   \n",
       "4               Can I cancel my order?   \n",
       "\n",
       "                                              answer        id  \\\n",
       "0  To create an account, click on the 'Sign Up' b...  a5825c73   \n",
       "1  We accept major credit cards, debit cards, and...  db025979   \n",
       "2  You can track your order by logging into your ...  f936d8f6   \n",
       "3  Our return policy allows you to return product...  ae7b5c39   \n",
       "4  You can cancel your order if it has not been s...  0ea444c1   \n",
       "\n",
       "                    topic  \n",
       "0  Account & Registration  \n",
       "1      Payments & Pricing  \n",
       "2        Order Management  \n",
       "3       Returns & Refunds  \n",
       "4        Order Management  "
      ]
     },
     "execution_count": 1,
     "metadata": {},
     "output_type": "execute_result"
    }
   ],
   "source": [
    "import pandas as pd\n",
    "from helper import get_data_path, get_openai_api_key\n",
    "\n",
    "data_path = get_data_path()\n",
    "df = pd.read_csv(data_path)\n",
    "\n",
    "df.head()\n"
   ]
  },
  {
   "cell_type": "code",
   "execution_count": 2,
   "metadata": {},
   "outputs": [
    {
     "data": {
      "text/plain": [
       "{'question': 'How can I create an account?',\n",
       " 'answer': \"To create an account, click on the 'Sign Up' button on the top right corner of our website and follow the instructions to complete the registration process.\",\n",
       " 'id': 'a5825c73',\n",
       " 'topic': 'Account & Registration'}"
      ]
     },
     "execution_count": 2,
     "metadata": {},
     "output_type": "execute_result"
    }
   ],
   "source": [
    "documents= df.to_dict(orient='records')\n",
    "documents[0]"
   ]
  },
  {
   "cell_type": "code",
   "execution_count": 8,
   "metadata": {},
   "outputs": [],
   "source": [
    "prompt_template=\"\"\"\n",
    "You emulate a user of our fitness assistant.\n",
    "\n",
    "Formulate 5 questions this user might ask based on a provided topic.\n",
    "The records should contain the answer to the questions, and the questions should.\n",
    "be complete and not too short. If possible, use as fewer words as possible from the record.\n",
    "\n",
    "The record:\n",
    "\n",
    "question: {question}\n",
    "answer: {answer}\n",
    "topic: {topic}\n",
    "\n",
    "Provide the output in parsable JSON without using code blocks:\n",
    "\n",
    "{{\"question\": [\"question1\", \"question2\", \"question3\", ..., \"question5\"]}}            \n",
    "\"\"\".strip()\n",
    "\n",
    "prompt = prompt_template.format(**documents[0])\n"
   ]
  },
  {
   "cell_type": "code",
   "execution_count": 9,
   "metadata": {},
   "outputs": [],
   "source": [
    "# from openai import OpenAI\n",
    "\n",
    "# openai_api_key = get_openai_api_key()\n",
    "# client= OpenAI(api_key=openai_api_key)\n",
    "# model= \"gpt-4o-mini\"\n",
    "# response= client.chat.completions.create(\n",
    "#         model=model,\n",
    "#        messages=[\n",
    "#         {\"role\":\"user\", \"content\": prompt}\n",
    "#     ],\n",
    "# )"
   ]
  },
  {
   "cell_type": "code",
   "execution_count": 10,
   "metadata": {},
   "outputs": [
    {
     "data": {
      "text/plain": [
       "{'question': ['What steps do I need to take to set up a new account?',\n",
       "  'Where can I find the option to register for an account?',\n",
       "  'Is there a specific button I should look for to create an account?',\n",
       "  'Can you guide me through the account registration process?',\n",
       "  \"What should I do after clicking the 'Sign Up' button?\"]}"
      ]
     },
     "execution_count": 10,
     "metadata": {},
     "output_type": "execute_result"
    }
   ],
   "source": [
    "import json\n",
    "\n",
    "questions= json.loads(response.choices[0].message.content)"
   ]
  },
  {
   "cell_type": "code",
   "execution_count": null,
   "metadata": {},
   "outputs": [],
   "source": [
    "# from tqdm.auto import tqdm\n",
    "\n",
    "# results = {}\n",
    "\n",
    "# def generate_questions():\n",
    "#     return None    \n",
    "\n",
    "# for doc in tqdm(documents):\n",
    "#      doc_id = doc['id']\n",
    "#      if doc_id in results:\n",
    "#          continue\n",
    "#      questions_raw = generate_questions(doc)\n",
    "#      questions = json.loads(questions_raw)\n",
    "#      results[doc_id] = questions['questions']\n",
    "\n",
    "# # with open(data_path.parent / \"retrieval_eval.json\", \"w\") as f:\n",
    "# #     json.dump(results, f, indent=4)"
   ]
  }
 ],
 "metadata": {
  "kernelspec": {
   "display_name": ".venv",
   "language": "python",
   "name": "python3"
  },
  "language_info": {
   "codemirror_mode": {
    "name": "ipython",
    "version": 3
   },
   "file_extension": ".py",
   "mimetype": "text/x-python",
   "name": "python",
   "nbconvert_exporter": "python",
   "pygments_lexer": "ipython3",
   "version": "3.11.6"
  }
 },
 "nbformat": 4,
 "nbformat_minor": 2
}
