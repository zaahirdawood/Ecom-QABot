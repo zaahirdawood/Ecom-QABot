{
 "cells": [
  {
   "cell_type": "code",
   "execution_count": 23,
   "metadata": {},
   "outputs": [],
   "source": [
    "from elasticsearch import Elasticsearch\n",
    "\n",
    "es_client = Elasticsearch('http://localhost:9200') "
   ]
  },
  {
   "cell_type": "code",
   "execution_count": 24,
   "metadata": {},
   "outputs": [
    {
     "data": {
      "text/plain": [
       "ObjectApiResponse({'name': '5ad71d9595ee', 'cluster_name': 'docker-cluster', 'cluster_uuid': 'npS6rMlUQLOxgaDY5b_w0A', 'version': {'number': '8.4.3', 'build_flavor': 'default', 'build_type': 'docker', 'build_hash': '42f05b9372a9a4a470db3b52817899b99a76ee73', 'build_date': '2022-10-04T07:17:24.662462378Z', 'build_snapshot': False, 'lucene_version': '9.3.0', 'minimum_wire_compatibility_version': '7.17.0', 'minimum_index_compatibility_version': '7.0.0'}, 'tagline': 'You Know, for Search'})"
      ]
     },
     "execution_count": 24,
     "metadata": {},
     "output_type": "execute_result"
    }
   ],
   "source": [
    "es_client.info()"
   ]
  },
  {
   "cell_type": "code",
   "execution_count": 27,
   "metadata": {},
   "outputs": [
    {
     "name": "stdout",
     "output_type": "stream",
     "text": [
      "Index 'acw' has been deleted.\n"
     ]
    }
   ],
   "source": [
    "# index_name = \"acw\"\n",
    "\n",
    "# # Check if the index exists, then delete it\n",
    "# if es_client.indices.exists(index=index_name):\n",
    "#     es_client.indices.delete(index=index_name)\n",
    "#     print(f\"Index '{index_name}' has been deleted.\")\n",
    "# else:\n",
    "#     print(f\"Index '{index_name}' does not exist.\")"
   ]
  },
  {
   "cell_type": "code",
   "execution_count": 25,
   "metadata": {},
   "outputs": [],
   "source": [
    "import json\n",
    "\n",
    "with open('aegon_conquest_chunked.json', 'rt') as f_in:\n",
    "    documents = json.load(f_in)"
   ]
  },
  {
   "cell_type": "code",
   "execution_count": 28,
   "metadata": {},
   "outputs": [
    {
     "data": {
      "text/plain": [
       "ObjectApiResponse({'acknowledged': True, 'shards_acknowledged': True, 'index': 'acw'})"
      ]
     },
     "execution_count": 28,
     "metadata": {},
     "output_type": "execute_result"
    }
   ],
   "source": [
    "index_settings = {\n",
    "    \"settings\": {\n",
    "        \"number_of_shards\": 1,\n",
    "        \"number_of_replicas\": 0\n",
    "    },\n",
    "    \"mappings\": {\n",
    "        \"properties\": {\n",
    "            \"aegons_conquest\": {\"type\": \"text\"},\n",
    "            \"the_dragons\": {\"type\": \"text\"},\n",
    "            \"key_characters_and_political_developments\": {\"type\": \"text\"},\n",
    "            \"major_battles_and_political_changes\": {\"type\": \"text\"}\n",
    "        }\n",
    "    }\n",
    "}\n",
    "\n",
    "index_name = \"acw\"\n",
    "\n",
    "# Creating the index with the corrected settings\n",
    "es_client.indices.create(index=index_name, body=index_settings)"
   ]
  },
  {
   "cell_type": "code",
   "execution_count": 32,
   "metadata": {},
   "outputs": [
    {
     "data": {
      "text/plain": [
       "ObjectApiResponse({'_index': 'acw', '_id': 'HLdD3ZEB0QF8todLGH__', '_version': 1, 'result': 'created', '_shards': {'total': 1, 'successful': 1, 'failed': 0}, '_seq_no': 0, '_primary_term': 1})"
      ]
     },
     "execution_count": 32,
     "metadata": {},
     "output_type": "execute_result"
    }
   ],
   "source": [
    "\n",
    "es_client.index(index=index_name, document=documents)"
   ]
  },
  {
   "cell_type": "code",
   "execution_count": 42,
   "metadata": {},
   "outputs": [],
   "source": [
    "def elastic_search(query):\n",
    "    search_query = {\n",
    "        \"size\": 5,\n",
    "        \"query\": {\n",
    "            \"bool\": {\n",
    "                \"must\": {\n",
    "                    \"multi_match\": {\n",
    "                        \"query\": query,\n",
    "                        # \"fields\": [\"question^3\", \"text\", \"section\"],\n",
    "                        \"type\": \"best_fields\"\n",
    "                    }\n",
    "                },\n",
    "\n",
    "                }\n",
    "            }\n",
    "        }\n",
    "    \n",
    "\n",
    "    response = es_client.search(index=index_name, body=search_query)\n",
    "    \n",
    "    result_docs = []\n",
    "    \n",
    "    for hit in response['hits']['hits']:\n",
    "        result_docs.append(hit['_source'])\n",
    "    \n",
    "    return result_docs"
   ]
  },
  {
   "cell_type": "code",
   "execution_count": 46,
   "metadata": {},
   "outputs": [
    {
     "data": {
      "text/plain": [
       "[{'aegons_conquest': \"Aegon's Conquest\\nhave used Aegon’s Conquest as their touchstone for the past three\\nTrue scholars know that such dating is far from precise. Aegon\\nsingle day. More than two years passed between Aegon’s landing and\\nhis Oldtown coronation...and even then the Conquest remained\\nAegon’s reign and well into the reigns of his sons, making it impossible\\nassume, wrongly, that the reign of King Aegon I Targaryen began on\\nthree hills where the city of King’s Landing would eventually stand.\\nNot so. The day of Aegon’s Landing was celebrated by the king and his\\nOldtown by the High Septon of the Faith. This coronation took place\\ntwo years after Aegon’s Landing, well after all three of the major\\nbe seen that most of Aegon’s actual conquering took place from 2-1\\nas Gaemon the Glorious. Gaemon’s son Aegon and his daughter Elaena\\nThe Aegon who would be known to history as Aegon the Conqueror\\nand Aegon the Dragon was born on Dragonstone in 27 BC. He was the\\nside. Aegon had two trueborn siblings; an elder sister, Visenya, and a\\npure, but Aegon took both his sisters to bride. By tradition, he would\\nprecedent. It was said by some that Aegon wed Visenya out of duty and\\nValyria, only one survived to Aegon’s day: the great beast called\\nA common myth, oft heard amongst the ignorant, claims that Aegon\\nthe Painted Table had been carved and decorated at Lord Aegon’s\\ntowns and castles of the Seven Kingdoms. Plainly, Aegon’s interest in\\nthere are reliable reports of Aegon and his sister Visenya visiting the\\nCitadel of Oldtown in their youth, and hawking on the Arbor as guests\\nThe Westeros of Aegon’s youth was divided into seven quarrelsome\\nbelonged to House Arryn...but the most belligerent kings of Aegon’s\\non Dragonstone, offering Lord Aegon his daughter in marriage, with all\\nAegon Targaryen spurned the Storm King’s proposal. He had two\\nBaratheon, Lord Aegon’s childhood friend and champion.\\nwas a baseborn half-brother to Lord Aegon, it was whispered, and the\\nAegon’s envoy cut off and returned to him in a box. “These are the only\\nAegon made no reply. Instead he summoned his friends,\\nDragonstone. Lord Aegon and his sisters took counsel with them, and\\nDragonstone to bring Lord Aegon’s word to the Seven Kingdoms of\\nWesteros. To the seven kings they flew, to the Citadel of Oldtown, to\\nknee to Aegon of House Targaryen would keep their lands and titles.\\nAegon and his sisters. Some say three thousand; others number them\\nAegon Targaryen quickly threw up a log-and-earth palisade around\\nback into the sea. Aegon sent Orys Baratheon out to attack them on the\\ncharacters of Aegon Targaryen and his sisters and queens.\\nVisenya, eldest of the three siblings, was as much a warrior as Aegon\\nin her bedchambers on the nights when Aegon was with her elder\\nAegon Targaryen himself, strangely, was as much an enigma to his\\nhim, but Aegon remained ever faithful to his sisters. As king, he put\\nThis he showed for the first time at the Aegonfort, the crude wood-\\nbe known as Aegon’s High Hill. Having taken a dozen castles and\\nlaid their swords at his feet, and Aegon raised them up and confirmed\\nValyria. When Aegon’s knights unfurled his great silken battle\\nRhaenys hailed him as, “Aegon, First of His Name, King of All\\nThe seven kings that Aegon the Dragon meant to uncrown were not\\ndispatched a raven to Dragonstone, offering to join Aegon against\\nsee where Aegon would move next.\\nWithin days of his coronation, Aegon’s armies were on the march\\nwaters off Gulltown. Amongst the dead was Aegon’s admiral, Daemon\\nVelaryon. Aegon himself was attacked on the south shore of the Gods\\nIn the end, though, Aegon’s enemies had no answer for his dragons.\\nAegon’s foes also found themselves plagued by other enemies. As\\nstrength to Aegon’s. His defiance gave heart to the other riverlords.\\nfor Aegon the Dragon. Blackwoods, Mallisters, Vances, Brackens,\\nAegon of Dragonstone was of a different mind. Once he had joined\\n“Yield now,” Aegon began, “and you may remain as Lord of the Iron\\nTo which Aegon said, “When the sun sets, your line shall end.”\\ndragon appeared, some may have thought that Aegon’s threats had\\nbeen hollow. But Aegon Targaryen took Balerion up high, through the\\nsmoking ruins of Harrenhal, King Aegon accepted an oath of fealty\\nof the Trident. The other riverlords did homage as well, to Aegon as\\ndragonfire, were gathered up and sent back to the Aegonfort in\\none-sided than Aegon’s conquest of Harrenhal. Thrice Argilac the\\nwith his streaming white hair and Aegon’s fierce, black-bearded Hand.\\nAegon the Dragon and his allies, the remaining kings of Westeros saw\\nto sway Aegon with her beauty, she sent him a portrait and offered\\nAegon Targaryen ever replied to her proposal; he had two queens\\nand assembled their own armies, intent on putting an end to Aegon for\\nAdvised of their coming in his camp beside the Gods Eye, Aegon\\nsmaller host, however, Aegon was able to move much more quickly\\nfrom the sky as Aegon’s army crossed the headwaters of the Blackwater\\nof Aegon’s, it seemed, and the disparity in lords and knights was even\\nthe eye could see, ideal for heavy horse. Aegon Targaryen would not\\nAegon on both flanks, then take him in the rear, whilst their “iron fist,”\\nAegon’s center.\\nAegon Targaryen drew his own men up in a rough crescent bristling\\nhis queens. Aegon had noted the absence of rain as well; the grass and\\nBut by then Aegon and his sisters were in the air.\\nAegon flew above the ranks of his foes upon Balerion, through a\\nthemselves on the dead, Aegon commanded that the swords of the\\nlaid his sword and crown at Aegon’s feet, bent the knee, and did him\\nhomage. And Aegon, true to his promises, lifted his beaten foe back to\\nYet the conquest of the west remained incomplete, so King Aegon\\nconquering king. In reward Aegon granted him Highgarden and all its\\nIt was King Aegon’s intent to continue his march south and enforce\\nthe submission of Oldtown, the Arbor, and Dorne, but whilst at\\nleading an army of savage northmen thirty thousand strong. Aegon at\\nat Aegon’s feet, and swore to be his man. He rose as Lord of Winterfell\\nAegon collected from Lord Stark and his vassals were not twisted nor\\nNow Aegon Targaryen and his queens parted company. Aegon\\nturned south once again, marching toward Oldtown, whilst his two\\nTo the west, Aegon Targaryen met a warmer welcome. The greatest\\ncity in all of Westeros, Oldtown was ringed about with massive walls,\\nmost powerful of the noble houses of the Reach. Oldtown was also the\\nYet when Aegon Targaryen and his host approached Oldtown, they\\nsubmission. As it happened, when word of Aegon’s landing first\\nreached Oldtown, the High Septon had locked himself within the\\nthe path ahead. If Oldtown took up arms against Aegon the Dragon,\\nManfred Hightower, Lord of Oldtown, was a cautious lord and godly.\\nThus it was that no men from Oldtown burned on the Field of Fire,\\nAegon the Dragon as he approached, and to offer up his sword, his city,\\nof his youngest daughter, which Aegon declined politely, lest it offend\\nanointed Aegon with the seven oils, placed a crown upon his head, and\\nproclaimed him Aegon of House Targaryen, the First of His Name,\\nOnly a handful of lords had been present for Aegon’s first coronation\\nof Oldtown as he rode through the city on Balerion’s back. Amongst\\nthose at Aegon’s second coronation were the maesters and\\ncoronation, rather than the Aegonfort crowning on the day of Aegon’s\\nlanding, that became fixed as the start of Aegon’s reign.\\ngreat realm, by the will of Aegon the Conqueror and his sisters.\\nMany thought that King Aegon would make Oldtown his royal seat\\nof Westeros. King’s Landing, the new town would be called. From there\\nAegon the Dragon would rule his realm, holding court from a great\\nThe Wars of King Aegon I\\nT he long reign of King Aegon I Targaryen (1 AC-37 AC) was by\\nThough the Wars of Conquest were said to have ended when Aegon\\nOldtown, not all of Westeros had yet submitted to his rule.\\nchaos of Aegon’s Conquest to declare themselves a free nation and\\nextinguished in a single night when Aegon unleashed Balerion’s fires\\nAegon Targaryen put an end to the fighting. He descended on the\\nmany hailed the coming of the dragons. King Aegon slew Qhorin\\nthat they be given over to Winterfell. Aegon listened to each claim, but\\nAegon, and the Dragon departed with his fleets.\\nmainland. Aegon granted the ruined castle of Harrenhal and its\\nWesteros south of the Wall was now ruled by Aegon Targaryen, save\\nattention. Aegon first attempted to win the Dornishmen with words,\\nBoneway, whilst Aegon himself marched through the Prince’s Pass at\\nstand before them, even without Aegon and Balerion.\\nKing Aegon’s host, burning their crops in the field and poisoning every\\nMountains slighted and abandoned. In the high passes, Aegon’s\\nface the Dornish sands. There Aegon divided his forces, sending Lord\\nKing Aegon himself had more success. Marching eastward through\\ncombat. Aegon accepted and slew the man, only to discover afterward\\nAs was Meria Martell, the Princess of Dorne, when King Aegon\\nmelted into the sands,” Queen Rhaenys told King Aegon.\\nAegon’s answer was a declaration of victory. In the great hall at\\nlands and castles the Conqueror had taken. Then King Aegon and his\\nThey had hardly reached King’s Landing before Dorne erupted\\nAegon’s castellans and stewards were allowed to die only after long\\nSoon only Lord Tyrell and his host remained. King Aegon had left\\nAegon Targaryen was not a man to accept defeat. The war would\\ncaptive on the Boneway were ransomed back to King’s Landing for\\ntake up swords against Dorne. In retaliation, King Aegon himself\\nIn 9 AC, Visenya returned again, this time with Aegon himself flying\\nthem. When word of the attack reached Oldtown, Lord Hightower sent\\nOldtown’s walls proved too strong for the Dornish to overcome, but\\nonce to Oldtown to relieve the city, but Ser Joffrey and his army had\\nhis father as the Lord of the High Tower, as Oldtown cried out for\\nvengeance. King Aegon flew Balerion to Highgarden to take counsel\\nOnce again the king unleashed his dragons against Dorne. Aegon\\nTargaryen, sister and wife to King Aegon I, perished at the Hellholt in\\nwine, Lord Fell smothered in a brothel in King’s Landing.\\nguards. Queen Visenya was set upon one night in King’s Landing. Two\\ndelegation to King’s Landing, to return the skull of the dragon Meraxes\\nand offer King Aegon terms of peace. His own heir, his daughter Deria,\\nKing’s Landing. Queen Visenya was hard set against them. “No peace\\nDornish girl be sold into “the meanest brothel in King’s Landing, till\\nevery beggar in the city has had his pleasure of her.” Aegon Targaryen\\ndown. Aegon knew that the Reach, the stormlands, and the marches\\nnor forget. Even in King’s Landing, the king dared not let the Dornish\\noutside the Aegonfort without a strong escort, for fear that the\\nKing Aegon read Prince Nymor’s words in open court, stone-faced\\nmountain. When he returned the next morning, Aegon Targaryen\\nanother, heartfelt words that touched King Aegon’s heart. Others insist\\nGrand Maester Clegg, who came to King’s Landing many years later,\\nBraavos to kill King Aegon’s son and heir, Queen Rhaenys’s boy,\\nKings, and Torrhen Stark could not; she had defeated Aegon Targaryen\\ncowardice amongst the lords and knights of Aegon’s kingdoms. “The\\nwas Aegon the Conqueror’s last war.\\nGovernance Under King Aegon I\\nkeystone of Aegon I’s policies as king. To this end, he made great\\nhandmaidens and companions to Aegon’s queens. In King’s Landing,\\nkingdoms one. Aegon’s queens, Visenya and Rhaenys, took a special\\nThough none doubted that Aegon Targaryen was the final authority\\ntraveled, whilst the other remained at Dragonstone or King’s Landing,\\nThough Aegon had designated King’s Landing as his royal seat and\\ninstalled the Iron Throne in the Aegonfort’s smoky longhall, he spent\\nAegonfort, with considerably more comfort, safety, and history. The\\nbrimstone. Aegon spent roughly half the year at his two seats, dividing\\nCasterly Rock, Crakehall, Old Oak, Highgarden, Oldtown, the Arbor,\\nhosting His Grace many times, but Aegon could and would turn up\\n“It is better to forestall rebellions than to put them down,” Aegon\\noutdo the others in splendor and hospitality, but Aegon also made a\\ntravels Aegon learned much and more about the Seven Kingdoms and\\nKing Aegon did little to interfere with those. He allowed his lords to\\nAegon’s chief concern was peace. Before the Conquest, wars between\\nAegon’s accession put an end to much of that. Petty lords and landed\\nshall be the King’s Peace,” King Aegon decreed, “and any lord who goes\\nKing Aegon also issued decrees regularizing customs, duties, and\\nthe High Septon of Oldtown.\\nKing’s Landing grew up around Aegon and his court, on and about\\nThe highest of those hills had become known as Aegon’s High Hill, and\\nbailey fort that Aegon had thrown up so quickly was neither large\\nAegonfort was threatening to burst out of its walls, so a new palisade\\nriverbanks, and merchants from Oldtown and the Free Cities were\\nto King’s Landing. A fish market sprung up along the riverside, a cloth\\nNo one planned King’s Landing. It simply grew...but it grew quickly.\\nAt Aegon’s first coronation, it was still a village squatting beneath a\\nLannisport and Oldtown.\\nUnlike its rivals, however, King’s Landing had no walls. It needed\\ntroubled the king, who realized that King’s Landing would be similarly\\nconstruction of a ring of walls about King’s Landing, as high and strong\\nas those that protected Oldtown and Lannisport. The task of building\\nStrong, the Hand of the King. To honor the Seven, Aegon decreed that\\nAegon next called on Edmyn Tully, Lord of Riverrun, to take up the\\nGrand Maester Gawen was the third in that office. Aegon Targaryen\\nof Oldtown to serve their households as healers, scribes, and\\nchildren. During the Conquest, Aegon and his sisters each had a\\none of the great disciplines. In 5 AC, King Aegon, feeling that the realm\\nMaester created, at King Aegon’s request.\\nto suggest that Aegon I ruled without the benefit of counsel. He is\\nThough he kept one septon at King’s Landing and another at\\nDragonstone, the king more oft wrote to the High Septon of Oldtown\\nduring his yearly circuit. More than any of these, King Aegon relied\\ncomposed many a song in praise of House Targaryen and King Aegon,\\nConquest made glorious to the simple people, whilst Aegon the Dragon\\ncourt in the Aegonfort, a man was brought before her for beating his\\nprotect the king. Visenya twice wielded Dark Sister in Aegon’s defense\\nclothes, and urged the king to do the same. When Aegon refused,\\nKing Aegon, bleeding, had no choice but to agree.\\nMany kings had champions to defend them. Aegon was the Lord of\\nthe Kingsguard that King Aegon considered holding a great tourney to\\nThese are the names of Aegon’s Seven, as written in the White Book\\nSixteen Targaryens followed Aegon the Dragon to the Iron Throne,\\nthey left behind, the name of King Aegon I belongs near the top of the\\n\",\n",
       "  'the_dragons': 'Summer, and moved with all his wives, wealth, slaves, dragons,\\nruled the skies with their dragons.\\nthey wed. Of the five dragons who had flown with Aenar the Exile from\\nBalerion, the Black Dread. The dragons Vhagar and Meraxes were\\ngolden-eyed Meraxes without a fight. At Stokeworth a _ few\\ncrossbowmen loosed bolts at Visenya, until Vhagar’s flames set the\\nbefore she died she meant to fly Meraxes across the Sunset Sea to see\\nmelee. His mount was Balerion the Black Dread, but he flew only to\\nWesteros, and Shield of His People,” the dragons roared and the lords\\nQueen Rhaenys accompanied him, astride Meraxes of the golden eyes\\nthem went Queen Visenya and Vhagar. The king himself marched\\nfamiliar forests until Queen Rhaenys unleashed Meraxes and a wall of\\nwere ill prepared when Balerion fell upon them out of the morning sky.\\n“But not so high as to keep out dragons. Dragons fly.”\\ncould bring the dragon down. “Had I a daughter, the dragonslayer\\nas black as pitch Balerion plunged through the night, and when the\\nhis men; Queen Rhaenys, flying Meraxes, had witnessed Argilac’s\\nQueen Rhaenys and Meraxes. Even on the ground, the dragon proved\\nRhaenys flew Meraxes into the castle to parley. “You may take my\\nwith their dragons—Rhaenys from Storm’s End and Visenya from\\nan arrow in one shoulder, but soon recovered. As the dragons gorged\\nof Balerion, the Black Dread. He sent word to his two queens as well,\\nAnd above their camp Balerion, Meraxes, and Vhagar prowled the sky\\nunder cover of darkness, to slay the dragons whilst they slept.\\nsisters mounted their dragons—Visenya for the Vale of Arryn and\\nwho rode Vhagar’s leathery wings above them all and landed in the\\nappeared to peer up at her as Meraxes circled overhead.\\nQueen Visenya and Vhagar in the skies above Sisterton, took the heart\\nislands in 2 AC, riding Balerion. With him came the war fleets of the\\nand blood, just as she had threatened. Riding Meraxes, the queen\\ndescended upon Sunspear on Balerion, to find his sister Rhaenys there\\ndescended on the mountain fastnesses of the Wyls with Balerion, and\\nskies of Dorne, and Vhagar’s fires were loosed upon Sunspear,\\nHarrenhal.” Visenya and Vhagar brought fire and blood to Starfall.\\nAnd Rhaenys and Meraxes returned once more to the Hellholt...where\\ntragedy struck. The Targaryen dragons, bred and trained to battle, had\\nenough to do more than enrage the great beasts. But as Meraxes\\ndragon in the right eye. Meraxes did not die at once, but came crashing\\nthat she was crushed beneath Meraxes in the castle yard. A few\\ncastle in Dorne was burned thrice over, as Balerion and Vhagar\\nfused into glass in places, so hot was Balerion’s fiery breath. The\\nAge and ill health finally did what dragons and armies could not. In\\nspoke of it again, but that night he mounted Balerion and flew off\\nand his dragons. Yet north of the Red Mountains, her tactics earned\\nking in all his power, mounted on Balerion the Black Dread and\\ntheir dragons. The king himself might have shared these views\\nMeraxes, in 10 AC and the attacks upon his own person undoubtedly\\n',\n",
       "  'key_characters_and_political_developments': 'Targaryen’s conquest of the Seven Kingdoms did not take place in a\\nThe Targaryens were of pure Valyrian blood, dragonlords of ancient\\nTargaryen sold his holdings in the Freehold and the Lands of the Long\\nendless, subtle, oft savage struggle for dominance. The Targaryens\\nAnd when the Doom came twelve years later, the Targaryens were the\\nstranglehold on Blackwater Bay and enabled both the Targaryens and\\ndominated the middle reaches of the narrow sea, whilst the Targaryens\\nValyria (the rightly named Century of Blood), House Targaryen looked\\nGaemon Targaryen, brother and husband to Daenys the Dreamer,\\nValaena of House Velaryon, herself half Targaryen on her mother’s\\nyounger sister, Rhaenys. It had long been the custom amongst the\\nhave been expected to wed only his older sister, Visenya; the inclusion\\nof Rhaenys as a second wife was unusual, though not without\\nRhaenys out of desire.\\nTargaryen had never set foot upon the soil of Westeros until the day he\\nNorth was ruled by the Starks of Winterfell. In the deserts of Dorne,\\nthe Martell princes held sway. The gold-rich westerlands were ruled by\\nthe Lannisters of Casterly Rock, the fertile Reach by the Gardeners of\\ndaughter. Thus it was that King Argilac reached out to the Targaryens\\nestablish the Targaryens along the Blackwater as a buffer between his\\nTargaryen, as were the Celtigars of Claw Isle. From Massey’s Hook\\nonly in the hundreds. This modest Targaryen host put ashore at the\\nruins remained to welcome the Targaryens. Though claimed by both\\nsubmission of the nearest castles. Rosby yielded to Rhaenys and\\ntheir swords to House Targaryen. At that time Duskendale was the\\nwealthy from the trade that passed through its harbor. Visenya\\nTargaryen did not allow the town to be sacked, but she did not hesitate\\nthose who loved her best found Visenya stern, serious, and\\nRhaenys, youngest of the three Targaryens, was all her sister was\\nwarrior, Rhaenys loved music, dancing, and poetry, and supported\\nmany a singer, mummer, and puppeteer. Yet it was said that Rhaenys\\nVisenya’s fidelity to her brother-husband, Rhaenys surrounded herself\\nnote that the king spent ten nights with Rhaenys for every night with\\nVisenya.\\nworthy high king for Westeros. When Queen Visenya placed a Valyrian\\nmeet with King Loren of House Lannister. The Princess of Dorne\\nNorth, King Torrhen Stark of Winterfell sat with his lords bannermen\\nand silver scales. The Targaryen fleet, under Daemon Velaryon, left\\nAll three of the Targaryen thrusts faced fierce opposition. Lords\\ndozen Braavosi warships, met and defeated the Targaryen fleet in the\\nEye, not once but twice. The Battle of the Reeds was a Targaryen\\nThe men of the Vale sank a third of the Targaryen ships and captured\\nnear as many, but when Queen Visenya descended upon them from the\\ndeclared for House Targaryen instead, raised the dragon banner over\\nRhaenys and her dragon. The old warrior king roared that he did not\\nthe Targaryen banners flapping sodden above his own hills enraged\\nrain was blowing from the south, into the faces of the Targaryen men\\napproach of Orys Baratheon and the Targaryen host, and declared\\nGoldengrove, seat of House Rowan, he met Loren I Lannister, King of\\nto House Targaryen was of recent vintage, and untested. With the\\nfealty from the local lords. Together the three Targaryens watched\\nTargaryen numbers and dispositions. They had five men for every one\\nto anchor the Targaryen line, the Two Kings meant to sweep around\\nThe Targaryens waited until the Two Kings sounded their trumpets\\nand Lannisters charged through a storm of arrows down unto their\\nfoes, sweeping aside the Targaryen spearmen, shattering their ranks.\\nbathe his foes in flame. Rhaenys and Visenya set fires upwind of the\\nThe Targaryens lost fewer than a hundred men. Queen Visenya took\\nLoren Lannister was captured the next day. The King of the Rock\\nHighgarden word of a new challenge came to his ears. Torrhen Stark,\\nWhen Torrhen Stark reached the banks of the Trident, he found a\\nTorrhen Stark himself crossed the Trident. There upon the south bank\\nTorrhen Stark is remembered as the King Who Knelt...but no\\nRhaenys for Sunspear and the deserts of Dorne.\\nEyrie. All these defenses proved useless against Visenya Targaryen,\\nconfront her, with a dozen guards at her back, she found Visenya with\\nQueen Visenya, along with the swords of her garrison. And it was said\\nGiant’s Lance, and landed to find himself a little lord. Thus did Visenya\\nTargaryen bring the Vale of Arryn into her brother’s realm.\\nRhaenys Targaryen had no such easy conquest. A host of Dornish\\nMountains, but Rhaenys did not engage them. She flew above the pass,\\nsay, “Away.” Rhaenys followed the river downstream to Godsgrace,\\nGreenblood met the sea, Rhaenys came upon the Planky Town, where\\nHouse Martell, where she found the Princess of Dorne waiting in her\\nabandoned castle. Meria Martell was eighty years of age, the maesters\\n“T will not fight you,” Princess Meria told Rhaenys, “nor will I kneel\\n“T shall,” Rhaenys replied, “but we will come again, Princess, and the\\nDragonstone, the ancient island citadel of House Targaryen. The king\\nhis Warden of the North, Torrhen Stark of Winterfell, to end the\\nEyrie, bent the knee to Queen Visenya, and gave his sons over as\\nBear Island dispatched by Torrhen Stark. The ironmen, their numbers\\nTullys of Riverrun or the Lannisters of Casterly Rock. Some even urged\\nSunspear to treat with Princess Meria Martell, the so-called Yellow\\nRhaenys Targaryen returned to Dorne. This time she came with fire\\nYellow Toad, Princess Meria Martell. Lord Jon Rosby was named\\nThis was not something the Targaryens would allow to go\\nunanswered. Later that same year, Visenya Targaryen appeared in the\\nWhether Rhaenys Targaryen outlived her dragon remains a matter\\ncircumstances of her demise will likely never be known, but Rhaenys\\nNor were the Targaryens themselves exempt. The king was attacked\\nof her escorts were slain before Visenya herself cut down the last\\nHouse Martell still remained Unbowed, Unbent, Unbroken, as their\\nwords avowed. One Dornish knight, brought before Queen Visenya as a\\ncaptive, insisted that Meria Martell would sooner see her people dead\\nthan slaves to House Targaryen. Visenya replied that she and her\\n13 AC, Meria Martell, the Yellow Toad of Dorne, died abed (whilst\\nthat his beloved sister Rhaenys had died in vain, that all the blood and\\nbefore her death, using a vial of Queen Rhaenys’s own blood for ink, so\\nThe reconciliation of the Seven Kingdoms to Targaryen rule was the\\nThe Targaryens also brokered many marriages between noble\\nRonnel Arryn, Lord of the Eyrie, took a daughter of Torrhen Stark of\\nWinterfell to wed, whilst Loren Lannister’s eldest son, heir to Casterly\\ntriplets, were born to the Evenstar of Tarth, Queen Rhaenys arranged\\nHarlaw. Queen Visenya brokered a double wedding between House\\nRhaenys’s service found herself with child by a scullion, the queen\\nVisenya and Rhaenys remained his partners in power throughout his\\nTargaryen king always took care to court the support of the Faith and\\nsoon enough the lesser hills were being called Visenya’s Hill and the\\nHill of Rhaenys, their former names forgotten. The crude motte-and-\\nas large and thrice as grand, was built atop Visenya’s Hill, with coin\\ndare attack the city so long as it was defended by the Targaryens and\\noriginally, but the death of his sister Rhaenys and her dragon,\\nand Visenya were elsewhere. Accordingly, His Grace ordered the\\nRhaenys and Visenya.\\nQueen Rhaenys was a great patron to the bards and singers of the\\nThough Queen Visenya thought her sister frivolous, there was a\\nQueen Rhaenys also took a great interest in the smallfolk, and had a\\nQueen Rhaenys consulted with her maesters and septons, then\\nhusband was taken to the foot of the Hill of Rhaenys, where he was\\nQueen Visenya did not share her sister’s love of music and song. She\\nYet there was darkness in Visenya Targaryen. To most of the world,\\nheads of the dragon, Visenya was to outlive both of her siblings, and it\\nVisenya grew furious. “Even with Blackfyre in your hand, you are only\\nking pointed out that he had guardsmen around him, Visenya drew\\nQueen Visenya decided. Thus did the Kingsguard come into being; a\\ngiving up their own lives for his if need be. Visenya modeled their vows\\ndetermine which of them was the most worthy. Visenya would not hear\\nVisenya Targaryen chose well. Two of her original seven would die\\n',\n",
       "  'major_battles_and_political_changes': 'hundred years. Births, deaths, battles, and other events are dated\\nbattles of the Wars of Conquest had been fought and won. Thus it can\\nHighgarden. The Vale, the Fingers, and the Mountains of the Moon\\nBlack and Argilac the Arrogant.\\nlands north of the Blackwater Rush. King Argilac, last of the\\ntwenty years later. But Argilac had grown older; his famous mane of\\nNorth of the Blackwater, the riverlands were ruled by the bloody\\nTrident from Argilac’s grandsire, Arrec, whose own forebears had\\nHarrenhal at last nearing completion, the ironborn would soon be free\\nking in Westeros felt more threatened than Argilac the Storm King, last\\nbeing offered had belonged to Harrenhal for more than a generation.\\nThey were not Argilac’s to give. Plainly, the aging Storm King meant to\\nwould take the dower lands being offered if Argilac would also cede\\nwould be sealed by the marriage of Argilac’s daughter to Orys\\nThese terms Argilac the Arrogant rejected angrily. Orys Baratheon\\nbastard. The very suggestion enraged him. Argilac had the hands of\\nStorm’s End and Harrenhal, the river mouth was undefended, and the\\nBoth lords were slain in the one-sided battle that followed; Darklyn’s\\nbattle or to travel swiftly across land and sea. His commanding\\ncheering, however. In Harrenhal and Storm’s End, Harren the Black\\nand Argilac the Arrogant had already called their banners. In the west,\\nArgilac the Storm King...but as an equal and ally, not a subject.\\nthe Trident for the Vale’s support against Black Harren. Even in the\\nBlackwater Bay and turned north, for Gulltown and the Vale. With\\nnorthwest, to the Gods Eye and Harrenhal, the gargantuan fortress\\nvictors at the Wailing Willows, returning across the lake to Harrenhal,\\nArgilac the Arrogant gathered his swords at Storm’s End, pirates from\\nout of the Red Mountains to sweep across the marches. In the Vale,\\nthe building of his great castle of Harrenhal, plundering the riverlands\\nTully of Riverrun. Summoned to the defense of Harrenhal, Tully\\nHarrenhal.\\nWesteros, Harrenhal boasted five gargantuan towers, an inexhaustible\\ngreat towers of Harrenhal appeared beneath him, the dragon roared\\nHarrenhal glowed red against the night, like five great candles...and\\nmore loyal than King Harren’s. Argilac the Arrogant gathered a great\\nHarrenhal. It too was thought to be impregnable to assault. Word of\\nKing Harren’s end soon reached the ears of his old enemy King Argilac,\\nsuckling pig with an apple in his mouth. No stranger to battle, he\\nwould decide his own fate, sword in hand. So Argilac the Arrogant rode\\nturned into a howling gale. King Argilac’s lords bannermen urged him\\nhim, and the battle-seasoned old warrior did not fail to note that the\\non their hills. So Argilac the Arrogant gave the command to attack, and\\nthe battle known to history as the Last Storm began.\\nthe knights of King Argilac’s personal guard. The warhorses panicked\\nYet still Argilac continued to battle. When Orys Baratheon came\\nArgilac cursed him instead. And so they fought, the old warrior king\\nstormlanders, and as the word spread that Argilac had fallen, his lords\\nfate as Harrenhal, for Argilac’s daughter Argella barred her gates at the\\ncalled his banners; given the vast distances in the North, he knew that\\nassembling an army would take time. Queen Sharra of the Vale, regent\\nand sent an army to the Bloody Gate, gateway to the Vale of Arryn. In\\nKing Mern had brought half again as many men to the battle as King\\nThe Field of Fire, the battle was named afterward.\\nsaw the battle lost.\\nKing in the North, had crossed the Neck and entered the riverlands,\\nHarrenhal and the Field of Fire.\\nTorrhen’s scouts had seen the ruins of Harrenhal, where slow red\\nfires still burned beneath the rubble. The King in the North had heard\\nmany accounts of the Field of Fire as well. He knew that the same fate\\nand Warden of the North, a king no more. From that day to this day,\\nEyrie’s inner courtyard. When the regent of the Vale rushed out to\\nsmall crown, and the Falcon Crown of Mountain and Vale that the\\ndemand its submission, only to find the castle empty and abandoned.\\nvery fat, blind, and almost bald, her skin sallow and sagging. Argilac\\nNorth, where the old gods still held sway), and the blades of the Faith\\non Harrenhal. Though Harren the Black and his sons perished in those\\na year their adherents battled one another on land and sea. It was said\\nWith the submission of the Three Sisters and the Iron Islands, all of\\nthe Dornishmen never offered battle. Instead they withdrew before\\nwithout submission,” she declared, and her friends on the king’s\\nDornishmen peace without submission would be tantamount to saying\\nin turn. Gulltown and the Eyrie, Harrenhal, Riverrun, Lannisport and\\n19 AC, and visited the North six times, holding court thrice in White\\n'}]"
      ]
     },
     "execution_count": 46,
     "metadata": {},
     "output_type": "execute_result"
    }
   ],
   "source": [
    "elastic_search('Meraxes')"
   ]
  },
  {
   "cell_type": "code",
   "execution_count": null,
   "metadata": {},
   "outputs": [],
   "source": [
    "# import hashlib\n",
    "\n",
    "# def generate_document_id(doc):\n",
    "#     # combined = f\"{doc['course']}-{doc['question']}\"\n",
    "#     combined = f\"{doc['course']}-{doc['question']}-{doc['text'][:10]}\"\n",
    "#     hash_object = hashlib.md5(combined.encode())\n",
    "#     hash_hex = hash_object.hexdigest()\n",
    "#     document_id = hash_hex[:8]\n",
    "#     return document_id\n",
    "\n",
    "\n",
    "# for doc in documents:\n",
    "#     doc['id'] = generate_document_id(doc)"
   ]
  }
 ],
 "metadata": {
  "kernelspec": {
   "display_name": ".venv",
   "language": "python",
   "name": "python3"
  },
  "language_info": {
   "codemirror_mode": {
    "name": "ipython",
    "version": 3
   },
   "file_extension": ".py",
   "mimetype": "text/x-python",
   "name": "python",
   "nbconvert_exporter": "python",
   "pygments_lexer": "ipython3",
   "version": "3.11.6"
  }
 },
 "nbformat": 4,
 "nbformat_minor": 2
}
